{
 "cells": [
  {
   "cell_type": "code",
   "execution_count": 34,
   "metadata": {},
   "outputs": [
    {
     "name": "stdout",
     "output_type": "stream",
     "text": [
      "The sum of 5.0 and 7.0 is 12.0\n"
     ]
    }
   ],
   "source": [
    "#ADDING 2 NO.S\n",
    "\n",
    "num1 = float(input(\"Enter the first number: \"))\n",
    "num2 = float(input(\"Enter the second number: \"))\n",
    "\n",
    "result = num1 + num2\n",
    "\n",
    "print(\"The sum of {} and {} is {}\".format(num1, num2, result))"
   ]
  },
  {
   "cell_type": "code",
   "execution_count": 32,
   "metadata": {},
   "outputs": [
    {
     "name": "stdout",
     "output_type": "stream",
     "text": [
      "The maximum of 2.0 and 7.0 is 7.0\n"
     ]
    }
   ],
   "source": [
    "#MAXIMUM OF 2 NO.S\n",
    "\n",
    "num1 = float(input(\"Enter the first number: \"))\n",
    "num2 = float(input(\"Enter the second number: \"))\n",
    "\n",
    "maximum = max(num1, num2)\n",
    "\n",
    "print(\"The maximum of {} and {} is {}\".format(num1, num2, maximum))"
   ]
  },
  {
   "cell_type": "code",
   "execution_count": 30,
   "metadata": {},
   "outputs": [
    {
     "name": "stdout",
     "output_type": "stream",
     "text": [
      "The factorial of 5 is 120\n"
     ]
    }
   ],
   "source": [
    "#FACTORIAL OF A NUMBER\n",
    "\n",
    "def factorial(n):\n",
    "    if n == 0 or n == 1:\n",
    "        return 1\n",
    "    else:\n",
    "        return n * factorial(n-1)\n",
    "\n",
    "num = int(input(\"Enter a number: \"))\n",
    "\n",
    "if num < 0:\n",
    "    print(\"Factorial is not defined for negative numbers.\")\n",
    "else:\n",
    "    result = factorial(num)\n",
    "    print(\"The factorial of {} is {}\".format(num, result))"
   ]
  },
  {
   "cell_type": "code",
   "execution_count": 15,
   "metadata": {},
   "outputs": [
    {
     "name": "stdout",
     "output_type": "stream",
     "text": [
      "The simple interest is 15000.0\n"
     ]
    }
   ],
   "source": [
    "#CALCULATING SIMPLE INTEREST\n",
    "\n",
    "def calculate_simple_interest(principal, rate, time):\n",
    "    interest = (principal * rate * time) / 100\n",
    "    return interest\n",
    "\n",
    "principal = float(input(\"Enter the principal amount: \"))\n",
    "rate = float(input(\"Enter the rate of interest (per annum): \"))\n",
    "time = float(input(\"Enter the time period (in years): \"))\n",
    "\n",
    "if principal < 0 or rate < 0 or time < 0:\n",
    "    print(\"Please enter non-negative values for principal, rate, and time.\")\n",
    "else:\n",
    "    interest = calculate_simple_interest(principal, rate, time)\n",
    "    print(\"The simple interest is\", interest)"
   ]
  },
  {
   "cell_type": "code",
   "execution_count": 28,
   "metadata": {},
   "outputs": [
    {
     "name": "stdout",
     "output_type": "stream",
     "text": [
      "The compound interest is: 10994.477385145809\n"
     ]
    }
   ],
   "source": [
    "#CALCULATING COMPOUND INTEREST\n",
    "\n",
    "def calculate_compound_interest(principal, rate, time, frequency):\n",
    "    # Formula for compound interest\n",
    "    amount = principal * (1 + (rate / (frequency * 100))) ** (frequency * time)\n",
    "    compound_interest = amount - principal\n",
    "    return compound_interest\n",
    "\n",
    "principal = float(input(\"Enter the principal amount: \"))\n",
    "rate = float(input(\"Enter the annual interest rate (in percentage): \"))\n",
    "time = float(input(\"Enter the time period in years: \"))\n",
    "frequency = float(input(\"Enter the compounding frequency per year: \"))\n",
    "\n",
    "if principal < 0 or rate < 0 or time < 0 or frequency <= 0:\n",
    "    print(\"Please enter valid non-negative values for principal, rate, time, and positive value for compounding frequency.\")\n",
    "else:\n",
    "    compound_interest = calculate_compound_interest(principal, rate, time, frequency)\n",
    "    print(\"The compound interest is: {}\".format(compound_interest))"
   ]
  },
  {
   "cell_type": "code",
   "execution_count": 17,
   "metadata": {},
   "outputs": [
    {
     "name": "stdout",
     "output_type": "stream",
     "text": [
      "It is an Armstrong number. 7\n"
     ]
    }
   ],
   "source": [
    "#CHECKING ARMSTRONG NUMBER\n",
    "\n",
    "def is_armstrong_number(number):\n",
    "    num_str = str(number)\n",
    "    num_digits = len(num_str)\n",
    "\n",
    "    sum_of_digits = sum(int(digit) ** num_digits for digit in num_str)\n",
    "    return sum_of_digits == number\n",
    "\n",
    "num = int(input(\"Enter a number: \"))\n",
    "\n",
    "if num < 0:\n",
    "    print(\"Please enter a non-negative number.\")\n",
    "else:\n",
    "    if is_armstrong_number(num):\n",
    "        print(\"It is an Armstrong number.\", num)\n",
    "    else:\n",
    "        print(\"It is not an Armstrong number.\", num)"
   ]
  },
  {
   "cell_type": "code",
   "execution_count": 18,
   "metadata": {},
   "outputs": [
    {
     "name": "stdout",
     "output_type": "stream",
     "text": [
      "The area of the circle is 113.09733552923255\n"
     ]
    }
   ],
   "source": [
    "#AREA OF A CIRCLE\n",
    "\n",
    "import math\n",
    "\n",
    "def calculate_circle_area(radius):\n",
    "    area = math.pi * radius**2\n",
    "    return area\n",
    "\n",
    "radius = float(input(\"Enter the radius of the circle: \"))\n",
    "\n",
    "if radius < 0:\n",
    "    print(\"Please enter a non-negative radius.\")\n",
    "else:\n",
    "    area = calculate_circle_area(radius)\n",
    "    print(\"The area of the circle is\", area)"
   ]
  },
  {
   "cell_type": "code",
   "execution_count": 21,
   "metadata": {},
   "outputs": [
    {
     "name": "stdout",
     "output_type": "stream",
     "text": [
      "Prime numbers in the interval [2, 8]: \n",
      "2\n",
      "3\n",
      "5\n",
      "7\n"
     ]
    }
   ],
   "source": [
    "#PRIME NO.S IN AN INTERVAL\n",
    "\n",
    "def is_prime(num):\n",
    "    if num < 2:\n",
    "        return False\n",
    "    for i in range(2, int(num**0.5) + 1):\n",
    "        if num % i == 0:\n",
    "            return False\n",
    "    return True\n",
    "\n",
    "start = int(input(\"Enter the starting number of the interval: \"))\n",
    "end = int(input(\"Enter the ending number of the interval: \"))\n",
    "\n",
    "if start < 0 or end < 0 or start > end:\n",
    "    print(\"Please enter a valid interval.\")\n",
    "else:\n",
    "    print(\"Prime numbers in the interval [{}, {}]: \".format(start, end))\n",
    "    for number in range(start, end + 1):\n",
    "        if is_prime(number):\n",
    "            print(number)"
   ]
  },
  {
   "cell_type": "code",
   "execution_count": 22,
   "metadata": {},
   "outputs": [
    {
     "name": "stdout",
     "output_type": "stream",
     "text": [
      "5 is a prime number.\n"
     ]
    }
   ],
   "source": [
    "#WHETHER A NUMBER IS PRIME OR NOT\n",
    "\n",
    "def is_prime(num):\n",
    "    if num < 2:\n",
    "        return False\n",
    "    for i in range(2, int(num**0.5) + 1):\n",
    "        if num % i == 0:\n",
    "            return False\n",
    "    return True\n",
    "\n",
    "num = int(input(\"Enter a number: \"))\n",
    "\n",
    "if is_prime(num):\n",
    "    print(\"{} is a prime number.\".format(num))\n",
    "else:\n",
    "    print(\"{} is not a prime number.\".format(num))"
   ]
  },
  {
   "cell_type": "code",
   "execution_count": 23,
   "metadata": {},
   "outputs": [
    {
     "name": "stdout",
     "output_type": "stream",
     "text": [
      "The 7-th Fibonacci number (recursive) is: 8\n"
     ]
    }
   ],
   "source": [
    "#N-TH FIBONACCI NUMBER\n",
    "\n",
    "def fibonacci_recursive(n):\n",
    "    if n <= 0:\n",
    "        return \"Please enter a positive integer.\"\n",
    "    elif n == 1:\n",
    "        return 0\n",
    "    elif n == 2:\n",
    "        return 1\n",
    "    else:\n",
    "        return fibonacci_recursive(n - 1) + fibonacci_recursive(n - 2)\n",
    "  \n",
    "n = int(input(\"Enter the value of n to find the nth Fibonacci number: \"))\n",
    "\n",
    "result_recursive = fibonacci_recursive(n)\n",
    "print(\"The {}-th Fibonacci number (recursive) is: {}\".format(n, result_recursive))"
   ]
  },
  {
   "cell_type": "code",
   "execution_count": 24,
   "metadata": {},
   "outputs": [
    {
     "name": "stdout",
     "output_type": "stream",
     "text": [
      "5 is a Fibonacci number.\n"
     ]
    }
   ],
   "source": [
    "#CHECKING A NUMBER IS A FIBONACCI NUMBER OR NOT\n",
    "\n",
    "def is_perfect_square(number):\n",
    "    square_root = int(number**0.5)\n",
    "    return square_root**2 == number\n",
    "\n",
    "def is_fibonacci(number):\n",
    "    # A number is a Fibonacci number if and only if one of the following conditions holds:\n",
    "    # 1. 5 * number^2 + 4 is a perfect square\n",
    "    # 2. 5 * number^2 - 4 is a perfect square\n",
    "    return is_perfect_square(5 * number**2 + 4) or is_perfect_square(5 * number**2 - 4)\n",
    "\n",
    "num = int(input(\"Enter a number to check if it's a Fibonacci number: \"))\n",
    "\n",
    "if is_fibonacci(num):\n",
    "    print(\"{} is a Fibonacci number.\".format(num))\n",
    "else:\n",
    "    print(\"{} is not a Fibonacci number.\".format(num))"
   ]
  },
  {
   "cell_type": "code",
   "execution_count": 43,
   "metadata": {},
   "outputs": [
    {
     "name": "stdout",
     "output_type": "stream",
     "text": [
      "The 3-th multiple of 5 in the Fibonacci series is 610\n"
     ]
    }
   ],
   "source": [
    "#N'TH MULTIPLE OF A NO. IN FIBONACCI SERIES\n",
    "\n",
    "def find_nth_multiple_in_fibonacci_series(number, n):\n",
    "    a, b = 0, 1\n",
    "    count = 0\n",
    "\n",
    "    while True:\n",
    "        if b % number == 0:\n",
    "            count += 1\n",
    "            if count == n:\n",
    "                return b\n",
    "        a, b = b, a + b\n",
    "\n",
    "number = int(input(\"Enter the number to find its multiples in the Fibonacci series: \"))\n",
    "n = int(input(\"Enter the value of n for the nth multiple: \"))\n",
    "\n",
    "result = find_nth_multiple_in_fibonacci_series(number, n)\n",
    "print(f\"The {n}-th multiple of {number} in the Fibonacci series is {result}\")"
   ]
  },
  {
   "cell_type": "code",
   "execution_count": 44,
   "metadata": {},
   "outputs": [
    {
     "name": "stdout",
     "output_type": "stream",
     "text": [
      "The ASCII value of 'A' is 65\n"
     ]
    }
   ],
   "source": [
    "#ASCII VALUES OF A CHARACTER\n",
    "\n",
    "character = input(\"Enter a character: \")\n",
    "\n",
    "if len(character) == 1:\n",
    "    ascii_value = ord(character)\n",
    "    print(\"The ASCII value of '{}' is {}\".format(character, ascii_value))\n",
    "else:\n",
    "    print(\"Please enter a single character.\")"
   ]
  },
  {
   "cell_type": "code",
   "execution_count": 45,
   "metadata": {},
   "outputs": [
    {
     "name": "stdout",
     "output_type": "stream",
     "text": [
      "The sum of squares of the first 5 natural numbers is 55\n"
     ]
    }
   ],
   "source": [
    "#SUM OF SQUARES OF FIRST N NATURAL NO.S\n",
    "\n",
    "def sum_of_squares(n):\n",
    "    return n * (n + 1) * (2 * n + 1) // 6\n",
    "\n",
    "n = int(input(\"Enter a positive integer (n): \"))\n",
    "\n",
    "if n > 0:\n",
    "    result = sum_of_squares(n)\n",
    "    print(\"The sum of squares of the first {} natural numbers is {}\".format(n, result))\n",
    "else:\n",
    "    print(\"Please enter a positive integer.\")"
   ]
  },
  {
   "cell_type": "code",
   "execution_count": 46,
   "metadata": {},
   "outputs": [
    {
     "name": "stdout",
     "output_type": "stream",
     "text": [
      "The sum of cubes of the first 7 natural numbers is 784\n"
     ]
    }
   ],
   "source": [
    "#CUBE SUM OF FIRST N NATURAL NO.S\n",
    "\n",
    "def sum_of_cubes(n):\n",
    "    return (n * (n + 1) // 2)**2\n",
    "\n",
    "n = int(input(\"Enter a positive integer (n): \"))\n",
    "\n",
    "if n > 0:\n",
    "    result = sum_of_cubes(n)\n",
    "    print(\"The sum of cubes of the first {} natural numbers is {}\".format(n, result))\n",
    "else:\n",
    "    print(\"Please enter a positive integer.\")"
   ]
  },
  {
   "cell_type": "code",
   "execution_count": 41,
   "metadata": {},
   "outputs": [
    {
     "name": "stdout",
     "output_type": "stream",
     "text": [
      "The sum of the array elements is 19\n"
     ]
    }
   ],
   "source": [
    "#SUM OF ARRAY\n",
    "\n",
    "def sum_of_array(arr):\n",
    "    return sum(arr)\n",
    "\n",
    "n = int(input(\"Enter the number of elements in the array: \"))\n",
    "\n",
    "arr = []\n",
    "for i in range(n):\n",
    "    element = int(input(\"Enter element {} of the array: \".format(i + 1)))\n",
    "    arr.append(element)\n",
    "\n",
    "result = sum_of_array(arr)\n",
    "print(\"The sum of the array elements is {}\".format(result))"
   ]
  },
  {
   "cell_type": "code",
   "execution_count": 42,
   "metadata": {},
   "outputs": [
    {
     "name": "stdout",
     "output_type": "stream",
     "text": [
      "The largest element in the array is 7\n"
     ]
    }
   ],
   "source": [
    "#LARGEST ELEMENT IN AN ARRAY\n",
    "\n",
    "def find_largest_element(arr):\n",
    "    if not arr:\n",
    "        return \"Array is empty\"\n",
    "    else:\n",
    "        return max(arr)\n",
    "\n",
    "n = int(input(\"Enter the number of elements in the array: \"))\n",
    "\n",
    "arr = []\n",
    "for i in range(n):\n",
    "    element = int(input(\"Enter element {} of the array: \".format(i + 1)))\n",
    "    arr.append(element)\n",
    "\n",
    "result = find_largest_element(arr)\n",
    "print(\"The largest element in the array is {}\".format(result))"
   ]
  },
  {
   "cell_type": "code",
   "execution_count": 47,
   "metadata": {},
   "outputs": [
    {
     "name": "stdout",
     "output_type": "stream",
     "text": [
      "Array after left rotation by 2 positions: [6, 8, 2, 4]\n"
     ]
    }
   ],
   "source": [
    "#ARRAY ROTATION\n",
    "\n",
    "def left_rotate_array(arr, d):\n",
    "    n = len(arr)\n",
    "    d = d % n  \n",
    "    return arr[d:] + arr[:d]\n",
    "\n",
    "n = int(input(\"Enter the number of elements in the array: \"))\n",
    "\n",
    "arr = []\n",
    "for i in range(n):\n",
    "    element = int(input(\"Enter element {} of the array: \".format(i + 1)))\n",
    "    arr.append(element)\n",
    "\n",
    "d = int(input(\"Enter the number of positions for left rotation: \"))\n",
    "\n",
    "rotated_array = left_rotate_array(arr, d)\n",
    "print(\"Array after left rotation by {} positions: {}\".format(d, rotated_array))\n"
   ]
  },
  {
   "cell_type": "code",
   "execution_count": 49,
   "metadata": {},
   "outputs": [
    {
     "name": "stdout",
     "output_type": "stream",
     "text": [
      "Array after left rotation by 2 positions [6, 8, 2, 4]\n"
     ]
    }
   ],
   "source": [
    "#REVERSAL ALGORITHM FOR ARRAY ROTATION\n",
    "\n",
    "def reverse_array(arr, start, end):\n",
    "    while start < end:\n",
    "        arr[start], arr[end] = arr[end], arr[start]\n",
    "        start += 1\n",
    "        end -= 1\n",
    "\n",
    "def left_rotate_array(arr, d):\n",
    "    n = len(arr)\n",
    "    d = d % n \n",
    "\n",
    "    reverse_array(arr, 0, d - 1)\n",
    "\n",
    "    reverse_array(arr, d, n - 1)\n",
    "\n",
    "    reverse_array(arr, 0, n - 1)\n",
    "\n",
    "n = int(input(\"Enter the number of elements in the array: \"))\n",
    "\n",
    "arr = []\n",
    "for i in range(n):\n",
    "    element = int(input(\"Enter element {} of the array: \".format(i + 1)))\n",
    "    arr.append(element)\n",
    "\n",
    "d = int(input(\"Enter the number of positions for left rotation: \"))\n",
    "\n",
    "left_rotate_array(arr, d)\n",
    "print(\"Array after left rotation by {} positions {}\".format(d, arr))"
   ]
  },
  {
   "cell_type": "code",
   "execution_count": 51,
   "metadata": {},
   "outputs": [
    {
     "name": "stdout",
     "output_type": "stream",
     "text": [
      "Array after left rotation by 3 positions: [1, 2, 6, 3]\n"
     ]
    }
   ],
   "source": [
    "#SPLITING THE ARRAY AND ADDING THE FIRST PART TO THE END\n",
    "\n",
    "def left_rotate_array(arr, d):\n",
    "    n = len(arr)\n",
    "    d = d % n \n",
    "\n",
    "    rotated_array = arr[d:] + arr[:d]\n",
    "    \n",
    "    return rotated_array\n",
    "\n",
    "n = int(input(\"Enter the number of elements in the array: \"))\n",
    "\n",
    "arr = []\n",
    "for i in range(n):\n",
    "    element = int(input(\"Enter element {} of the array: \".format(i + 1)))\n",
    "    arr.append(element)\n",
    "\n",
    "d = int(input(\"Enter the number of positions for left rotation: \"))\n",
    "\n",
    "rotated_array = left_rotate_array(arr, d)\n",
    "print(\"Array after left rotation by {} positions: {}\".format(d, rotated_array))"
   ]
  },
  {
   "cell_type": "code",
   "execution_count": 52,
   "metadata": {},
   "outputs": [
    {
     "name": "stdout",
     "output_type": "stream",
     "text": [
      "The remainder of array multiplication divided by 4 is: 0\n"
     ]
    }
   ],
   "source": [
    "#REMAINDER OF ARRAY MULTIPLICATION DIVIDED BY N\n",
    "\n",
    "def remainder_of_array_multiplication(arr, n):\n",
    "    result = 1\n",
    "\n",
    "    for element in arr:\n",
    "        result = (result * element) % n\n",
    "\n",
    "    return result\n",
    "\n",
    "n = int(input(\"Enter the divisor (n): \"))\n",
    "m = int(input(\"Enter the number of elements in the array: \"))\n",
    "\n",
    "arr = []\n",
    "for i in range(m):\n",
    "    element = int(input(\"Enter element {} of the array: \".format(i + 1)))\n",
    "    arr.append(element)\n",
    "\n",
    "result = remainder_of_array_multiplication(arr, n)\n",
    "print(\"The remainder of array multiplication divided by {} is: {}\".format(n, result))"
   ]
  },
  {
   "cell_type": "code",
   "execution_count": 53,
   "metadata": {},
   "outputs": [
    {
     "name": "stdout",
     "output_type": "stream",
     "text": [
      "The given array is not monotonic.\n"
     ]
    }
   ],
   "source": [
    "#CHECKING IF ARRAY IS MONOTONIC\n",
    "\n",
    "def is_monotonic(arr):\n",
    "    increasing = decreasing = True\n",
    "\n",
    "    for i in range(1, len(arr)):\n",
    "        if arr[i] < arr[i - 1]:\n",
    "            increasing = False\n",
    "            break\n",
    "\n",
    "    for i in range(1, len(arr)):\n",
    "        if arr[i] > arr[i - 1]:\n",
    "            decreasing = False\n",
    "            break\n",
    "\n",
    "    return increasing or decreasing\n",
    "\n",
    "n = int(input(\"Enter the number of elements in the array: \"))\n",
    "\n",
    "arr = []\n",
    "for i in range(n):\n",
    "    element = int(input(\"Enter element {} of the array: \".format(i + 1)))\n",
    "    arr.append(element)\n",
    "    \n",
    "if is_monotonic(arr):\n",
    "    print(\"The given array is monotonic.\")\n",
    "else:\n",
    "    print(\"The given array is not monotonic.\")"
   ]
  },
  {
   "cell_type": "code",
   "execution_count": 1,
   "metadata": {},
   "outputs": [
    {
     "name": "stdout",
     "output_type": "stream",
     "text": [
      "Original List: [1, 2, 3, 4, 5]\n",
      "List after interchange: [5, 2, 3, 4, 1]\n"
     ]
    }
   ],
   "source": [
    "#INTERCHANGING FIRST AND LAST ELEMENT IN A LIST\n",
    "\n",
    "def interchange_first_last(lst):\n",
    "    if len(lst) >= 2:\n",
    "        lst[0], lst[-1] = lst[-1], lst[0]\n",
    "    else:\n",
    "        print(\"List should have at least two elements for interchange.\")\n",
    "\n",
    "my_list = [1, 2, 3, 4, 5]\n",
    "print(\"Original List:\", my_list)\n",
    "\n",
    "interchange_first_last(my_list)\n",
    "\n",
    "print(\"List after interchange:\", my_list)"
   ]
  },
  {
   "cell_type": "code",
   "execution_count": 2,
   "metadata": {},
   "outputs": [
    {
     "name": "stdout",
     "output_type": "stream",
     "text": [
      "Original List: [1, 2, 3, 4, 5]\n",
      "List after swapping elements: [1, 4, 3, 2, 5]\n"
     ]
    }
   ],
   "source": [
    "#SWAPPING 2 ELEMENTS IN A LIST\n",
    "\n",
    "def swap_elements(lst, index1, index2):\n",
    "    if 0 <= index1 < len(lst) and 0 <= index2 < len(lst):\n",
    "        lst[index1], lst[index2] = lst[index2], lst[index1]\n",
    "    else:\n",
    "        print(\"Invalid indices. Please provide valid indices within the range of the list.\")\n",
    "\n",
    "my_list = [1, 2, 3, 4, 5]\n",
    "print(\"Original List:\", my_list)\n",
    "\n",
    "swap_elements(my_list, 1, 3)\n",
    "\n",
    "print(\"List after swapping elements:\", my_list)"
   ]
  },
  {
   "cell_type": "code",
   "execution_count": 3,
   "metadata": {},
   "outputs": [
    {
     "name": "stdout",
     "output_type": "stream",
     "text": [
      "Length of the list: 5\n"
     ]
    }
   ],
   "source": [
    "#FINDING THE LENGTH OF A LIST\n",
    "\n",
    "def find_list_length(lst):\n",
    "    length = len(lst)\n",
    "    return length\n",
    "\n",
    "my_list = [1, 2, 3, 4, 5]\n",
    "length_of_list = find_list_length(my_list)\n",
    "\n",
    "print(\"Length of the list:\", length_of_list)"
   ]
  },
  {
   "cell_type": "code",
   "execution_count": 4,
   "metadata": {},
   "outputs": [
    {
     "name": "stdout",
     "output_type": "stream",
     "text": [
      "3 exists in the list.\n"
     ]
    }
   ],
   "source": [
    "#CHECKING IF ELEMENT EXISTS IN A LIST\n",
    "\n",
    "def check_element_exists(lst, element):\n",
    "    if element in lst:\n",
    "        return True\n",
    "    else:\n",
    "        return False\n",
    "\n",
    "my_list = [1, 2, 3, 4, 5]\n",
    "element_to_check = 3\n",
    "\n",
    "if check_element_exists(my_list, element_to_check):\n",
    "    print(f\"{element_to_check} exists in the list.\")\n",
    "else:\n",
    "    print(f\"{element_to_check} does not exist in the list.\") "
   ]
  },
  {
   "cell_type": "code",
   "execution_count": 5,
   "metadata": {},
   "outputs": [
    {
     "name": "stdout",
     "output_type": "stream",
     "text": [
      "Original List: [1, 2, 3, 4, 5]\n",
      "List after clearing: []\n"
     ]
    }
   ],
   "source": [
    "#CLEARING A LIST\n",
    "\n",
    "def clear_list(lst):\n",
    "    lst.clear()\n",
    "\n",
    "my_list = [1, 2, 3, 4, 5]\n",
    "print(\"Original List:\", my_list)\n",
    "\n",
    "clear_list(my_list)\n",
    "\n",
    "print(\"List after clearing:\", my_list)"
   ]
  },
  {
   "cell_type": "code",
   "execution_count": 6,
   "metadata": {},
   "outputs": [
    {
     "name": "stdout",
     "output_type": "stream",
     "text": [
      "Original List: [1, 2, 3, 4, 5]\n",
      "List after reversing: [5, 4, 3, 2, 1]\n"
     ]
    }
   ],
   "source": [
    "#REVERSING A LIST\n",
    "\n",
    "def reverse_list(lst):\n",
    "    lst.reverse()\n",
    "\n",
    "my_list = [1, 2, 3, 4, 5]\n",
    "print(\"Original List:\", my_list)\n",
    "\n",
    "reverse_list(my_list)\n",
    "\n",
    "print(\"List after reversing:\", my_list)"
   ]
  },
  {
   "cell_type": "code",
   "execution_count": 7,
   "metadata": {},
   "outputs": [
    {
     "name": "stdout",
     "output_type": "stream",
     "text": [
      "Sum of elements in the list: 15\n"
     ]
    }
   ],
   "source": [
    "#ADDING THE ELEMENTS OF A LIST\n",
    "\n",
    "def sum_of_list_elements(lst):\n",
    "    return sum(lst)\n",
    "\n",
    "my_list = [1, 2, 3, 4, 5]\n",
    "result = sum_of_list_elements(my_list)\n",
    "\n",
    "print(\"Sum of elements in the list:\", result)"
   ]
  },
  {
   "cell_type": "code",
   "execution_count": 8,
   "metadata": {},
   "outputs": [
    {
     "name": "stdout",
     "output_type": "stream",
     "text": [
      "Product of elements in the list: 120\n"
     ]
    }
   ],
   "source": [
    "#MULTIPLYING THE NUMBERS IN A LIST\n",
    "\n",
    "def multiply_list_elements(lst):\n",
    "    result = 1\n",
    "    for element in lst:\n",
    "        result *= element\n",
    "    return result\n",
    "\n",
    "my_list = [1, 2, 3, 4, 5]\n",
    "result = multiply_list_elements(my_list)\n",
    "\n",
    "print(\"Product of elements in the list:\", result)"
   ]
  },
  {
   "cell_type": "code",
   "execution_count": 9,
   "metadata": {},
   "outputs": [
    {
     "name": "stdout",
     "output_type": "stream",
     "text": [
      "The smallest number in the list: 1\n"
     ]
    }
   ],
   "source": [
    "#SMALLEST NUMBER IN A LIST\n",
    "\n",
    "def find_smallest_number(lst):\n",
    "    if not lst:\n",
    "        print(\"List is empty.\")\n",
    "        return None\n",
    "\n",
    "    smallest_number = min(lst)\n",
    "    return smallest_number\n",
    "\n",
    "my_list = [5, 2, 8, 1, 3]\n",
    "smallest_number = find_smallest_number(my_list)\n",
    "\n",
    "if smallest_number is not None:\n",
    "    print(\"The smallest number in the list:\", smallest_number)"
   ]
  },
  {
   "cell_type": "code",
   "execution_count": 10,
   "metadata": {},
   "outputs": [
    {
     "name": "stdout",
     "output_type": "stream",
     "text": [
      "The largest number in the list: 8\n"
     ]
    }
   ],
   "source": [
    "#LARGEST NUMBER IN A LIST\n",
    "\n",
    "def find_largest_number(lst):\n",
    "    if not lst:\n",
    "        print(\"List is empty.\")\n",
    "        return None\n",
    "\n",
    "    largest_number = max(lst)\n",
    "    return largest_number\n",
    "\n",
    "my_list = [5, 2, 8, 1, 3]\n",
    "largest_number = find_largest_number(my_list)\n",
    "\n",
    "if largest_number is not None:\n",
    "    print(\"The largest number in the list:\", largest_number)"
   ]
  },
  {
   "cell_type": "code",
   "execution_count": 11,
   "metadata": {},
   "outputs": [
    {
     "name": "stdout",
     "output_type": "stream",
     "text": [
      "The second largest number in the list: 5\n"
     ]
    }
   ],
   "source": [
    "#SECOND LARGEST NUMBER IN A LIST\n",
    "\n",
    "def find_second_largest(lst):\n",
    "    if len(lst) < 2:\n",
    "        print(\"List should have at least two elements.\")\n",
    "        return None\n",
    "\n",
    "    sorted_list = sorted(lst, reverse=True)\n",
    "    second_largest = sorted_list[1]\n",
    "    return second_largest\n",
    "\n",
    "my_list = [5, 2, 8, 1, 3]\n",
    "second_largest_number = find_second_largest(my_list)\n",
    "\n",
    "if second_largest_number is not None:\n",
    "    print(\"The second largest number in the list:\", second_largest_number)"
   ]
  },
  {
   "cell_type": "code",
   "execution_count": 14,
   "metadata": {},
   "outputs": [
    {
     "name": "stdout",
     "output_type": "stream",
     "text": [
      "The 3 largest elements in the list: [10, 8, 7]\n"
     ]
    }
   ],
   "source": [
    "#N LARGEST ELEMENT IN A LIST\n",
    "\n",
    "import heapq\n",
    "\n",
    "def find_n_largest_elements(lst, n):\n",
    "    if len(lst) < n:\n",
    "        print(\"List has fewer elements than N.\")\n",
    "        return None\n",
    "\n",
    "    # Use a min heap to maintain the N largest elements\n",
    "    min_heap = lst[:n]\n",
    "    heapq.heapify(min_heap)\n",
    "\n",
    "    for element in lst[n:]:\n",
    "        if element > min_heap[0]:\n",
    "            heapq.heappop(min_heap)\n",
    "            heapq.heappush(min_heap, element)\n",
    "\n",
    "    return sorted(min_heap, reverse=True)\n",
    "\n",
    "# Example usage:\n",
    "my_list = [5, 2, 8, 1, 3, 10, 7]\n",
    "N = 3\n",
    "n_largest_elements = find_n_largest_elements(my_list, N)\n",
    "\n",
    "if n_largest_elements is not None:\n",
    "    print(f\"The {N} largest elements in the list:\", n_largest_elements)"
   ]
  },
  {
   "cell_type": "code",
   "execution_count": 15,
   "metadata": {},
   "outputs": [
    {
     "name": "stdout",
     "output_type": "stream",
     "text": [
      "Even numbers in the list: [2, 4, 6, 8]\n"
     ]
    }
   ],
   "source": [
    "#EVEN NUMBERS IN A LIST\n",
    "\n",
    "def find_even_numbers(lst):\n",
    "    even_numbers = []\n",
    "    for number in lst:\n",
    "        if number % 2 == 0:\n",
    "            even_numbers.append(number)\n",
    "    return even_numbers\n",
    "\n",
    "my_list = [1, 2, 3, 4, 5, 6, 7, 8, 9]\n",
    "even_numbers = find_even_numbers(my_list)\n",
    "\n",
    "print(\"Even numbers in the list:\", even_numbers)"
   ]
  },
  {
   "cell_type": "code",
   "execution_count": 16,
   "metadata": {},
   "outputs": [
    {
     "name": "stdout",
     "output_type": "stream",
     "text": [
      "Odd numbers in the list: [1, 3, 5, 7, 9]\n"
     ]
    }
   ],
   "source": [
    "#ODD NUMBERS IN A LIST\n",
    "\n",
    "def find_odd_numbers(lst):\n",
    "    odd_numbers = []\n",
    "    for number in lst:\n",
    "        if number % 2 != 0:\n",
    "            odd_numbers.append(number)\n",
    "    return odd_numbers\n",
    "\n",
    "my_list = [1, 2, 3, 4, 5, 6, 7, 8, 9]\n",
    "odd_numbers = find_odd_numbers(my_list)\n",
    "\n",
    "print(\"Odd numbers in the list:\", odd_numbers)"
   ]
  },
  {
   "cell_type": "code",
   "execution_count": 17,
   "metadata": {},
   "outputs": [
    {
     "name": "stdout",
     "output_type": "stream",
     "text": [
      "Even numbers in the range 1 to 10: [2, 4, 6, 8, 10]\n"
     ]
    }
   ],
   "source": [
    "#EVEN NUMBERS IN A RANGE\n",
    "\n",
    "def find_even_numbers_in_range(start, end):\n",
    "    even_numbers = []\n",
    "    for number in range(start, end + 1):\n",
    "        if number % 2 == 0:\n",
    "            even_numbers.append(number)\n",
    "    return even_numbers\n",
    "\n",
    "start_range = 1\n",
    "end_range = 10\n",
    "even_numbers = find_even_numbers_in_range(start_range, end_range)\n",
    "\n",
    "print(f\"Even numbers in the range {start_range} to {end_range}: {even_numbers}\")"
   ]
  },
  {
   "cell_type": "code",
   "execution_count": 18,
   "metadata": {},
   "outputs": [
    {
     "name": "stdout",
     "output_type": "stream",
     "text": [
      "Odd numbers in the range 1 to 10: [1, 3, 5, 7, 9]\n"
     ]
    }
   ],
   "source": [
    "#ODD NUMBERS IN A RANGE\n",
    "\n",
    "def find_odd_numbers_in_range(start, end):\n",
    "    odd_numbers = []\n",
    "    for number in range(start, end + 1):\n",
    "        if number % 2 != 0:\n",
    "            odd_numbers.append(number)\n",
    "    return odd_numbers\n",
    "\n",
    "start_range = 1\n",
    "end_range = 10\n",
    "odd_numbers = find_odd_numbers_in_range(start_range, end_range)\n",
    "\n",
    "print(f\"Odd numbers in the range {start_range} to {end_range}: {odd_numbers}\")"
   ]
  },
  {
   "cell_type": "code",
   "execution_count": 19,
   "metadata": {},
   "outputs": [
    {
     "name": "stdout",
     "output_type": "stream",
     "text": [
      "Positive numbers in the list: [5, 8, 2]\n"
     ]
    }
   ],
   "source": [
    "#POSITIVE NO.S IN A LIST\n",
    "\n",
    "def find_positive_numbers(lst):\n",
    "    positive_numbers = []\n",
    "    for number in lst:\n",
    "        if number > 0:\n",
    "            positive_numbers.append(number)\n",
    "    return positive_numbers\n",
    "\n",
    "my_list = [-3, 0, 5, -7, 8, -1, 2]\n",
    "positive_numbers = find_positive_numbers(my_list)\n",
    "\n",
    "print(\"Positive numbers in the list:\", positive_numbers)"
   ]
  },
  {
   "cell_type": "code",
   "execution_count": 20,
   "metadata": {},
   "outputs": [
    {
     "name": "stdout",
     "output_type": "stream",
     "text": [
      "Negative numbers in the list: [-3, -7, -1]\n"
     ]
    }
   ],
   "source": [
    "#NEGATIVE NO.S IN A LIST\n",
    "\n",
    "def find_negative_numbers(lst):\n",
    "    negative_numbers = []\n",
    "    for number in lst:\n",
    "        if number < 0:\n",
    "            negative_numbers.append(number)\n",
    "    return negative_numbers\n",
    "\n",
    "my_list = [-3, 0, 5, -7, 8, -1, 2]\n",
    "negative_numbers = find_negative_numbers(my_list)\n",
    "\n",
    "print(\"Negative numbers in the list:\", negative_numbers)"
   ]
  },
  {
   "cell_type": "code",
   "execution_count": 21,
   "metadata": {},
   "outputs": [
    {
     "name": "stdout",
     "output_type": "stream",
     "text": [
      "Positive numbers in the range -5 to 5: [1, 2, 3, 4, 5]\n"
     ]
    }
   ],
   "source": [
    "#POSITIVE NO.S IN A RANGE\n",
    "\n",
    "def find_positive_numbers_in_range(start, end):\n",
    "    positive_numbers = []\n",
    "    for number in range(start, end + 1):\n",
    "        if number > 0:\n",
    "            positive_numbers.append(number)\n",
    "    return positive_numbers\n",
    "\n",
    "start_range = -5\n",
    "end_range = 5\n",
    "positive_numbers = find_positive_numbers_in_range(start_range, end_range)\n",
    "\n",
    "print(f\"Positive numbers in the range {start_range} to {end_range}: {positive_numbers}\")"
   ]
  },
  {
   "cell_type": "code",
   "execution_count": 22,
   "metadata": {},
   "outputs": [
    {
     "name": "stdout",
     "output_type": "stream",
     "text": [
      "Negative numbers in the range -5 to 5: [-5, -4, -3, -2, -1]\n"
     ]
    }
   ],
   "source": [
    "#NEGATIVE NO.S IN A RANGE\n",
    "\n",
    "def find_negative_numbers_in_range(start, end):\n",
    "    negative_numbers = []\n",
    "    for number in range(start, end + 1):\n",
    "        if number < 0:\n",
    "            negative_numbers.append(number)\n",
    "    return negative_numbers\n",
    "\n",
    "start_range = -5\n",
    "end_range = 5\n",
    "negative_numbers = find_negative_numbers_in_range(start_range, end_range)\n",
    "\n",
    "print(f\"Negative numbers in the range {start_range} to {end_range}: {negative_numbers}\")"
   ]
  },
  {
   "cell_type": "code",
   "execution_count": 23,
   "metadata": {},
   "outputs": [
    {
     "name": "stdout",
     "output_type": "stream",
     "text": [
      "Original List: [1, 2, 3, 4, 5, 6, 7, 8, 9]\n",
      "List after removing elements: [1, 3, 5, 7, 8, 9]\n"
     ]
    }
   ],
   "source": [
    "#REMOVING MULTIPLE ELEMENTS FROM A LIST\n",
    "\n",
    "def remove_elements(lst, elements_to_remove):\n",
    "    return list(filter(lambda x: x not in elements_to_remove, lst))\n",
    "\n",
    "my_list = [1, 2, 3, 4, 5, 6, 7, 8, 9]\n",
    "elements_to_remove = [2, 4, 6]\n",
    "\n",
    "new_list = remove_elements(my_list, elements_to_remove)\n",
    "\n",
    "print(\"Original List:\", my_list)\n",
    "print(\"List after removing elements:\", new_list)"
   ]
  },
  {
   "cell_type": "code",
   "execution_count": 24,
   "metadata": {},
   "outputs": [
    {
     "name": "stdout",
     "output_type": "stream",
     "text": [
      "Original List: [1, [], 3, [], 5, [], [], 8, 9, []]\n",
      "List after removing empty lists: [1, 3, 5, 8, 9]\n"
     ]
    }
   ],
   "source": [
    "#REMOVING EMPTY LIST FROM A LIST\n",
    "\n",
    "def remove_empty_lists(lst):\n",
    "    return [sublist for sublist in lst if sublist]\n",
    "\n",
    "my_list = [1, [], 3, [], 5, [], [], 8, 9, []]\n",
    "\n",
    "new_list = remove_empty_lists(my_list)\n",
    "\n",
    "print(\"Original List:\", my_list)\n",
    "print(\"List after removing empty lists:\", new_list)"
   ]
  },
  {
   "cell_type": "code",
   "execution_count": 25,
   "metadata": {},
   "outputs": [
    {
     "name": "stdout",
     "output_type": "stream",
     "text": [
      "Original List: [1, 2, 3, 4, 5]\n",
      "Copied List using slicing: [1, 2, 3, 4, 5]\n"
     ]
    }
   ],
   "source": [
    "#COPYING A LIST\n",
    "\n",
    "def copy_list_using_slicing(original_list):\n",
    "    return original_list[:]\n",
    "\n",
    "original_list = [1, 2, 3, 4, 5]\n",
    "copied_list = copy_list_using_slicing(original_list)\n",
    "\n",
    "print(\"Original List:\", original_list)\n",
    "print(\"Copied List using slicing:\", copied_list)"
   ]
  },
  {
   "cell_type": "code",
   "execution_count": 26,
   "metadata": {},
   "outputs": [
    {
     "name": "stdout",
     "output_type": "stream",
     "text": [
      "The element 2 appears 3 times in the list.\n"
     ]
    }
   ],
   "source": [
    "#COUNT OCCURRENCES OF AN ELEMENT IN A LIST\n",
    "\n",
    "def count_occurrences(lst, element):\n",
    "    return lst.count(element)\n",
    "\n",
    "my_list = [1, 2, 3, 4, 2, 5, 2, 6]\n",
    "element_to_count = 2\n",
    "\n",
    "occurrences = count_occurrences(my_list, element_to_count)\n",
    "\n",
    "print(f\"The element {element_to_count} appears {occurrences} times in the list.\")"
   ]
  },
  {
   "cell_type": "code",
   "execution_count": 27,
   "metadata": {},
   "outputs": [
    {
     "name": "stdout",
     "output_type": "stream",
     "text": [
      "Original List: [(1, 2), (), (3, 4), (), (), (5,), (), (6, 7, 8)]\n",
      "List after removing empty tuples: [(1, 2), (3, 4), (5,), (6, 7, 8)]\n"
     ]
    }
   ],
   "source": [
    "#REMOVING EMPTY TUPLES FROM A LIST\n",
    "\n",
    "def remove_empty_tuples(lst):\n",
    "    return [tup for tup in lst if tup]\n",
    "\n",
    "my_list = [(1, 2), (), (3, 4), (), (), (5,), (), (6, 7, 8)]\n",
    "cleaned_list = remove_empty_tuples(my_list)\n",
    "\n",
    "print(\"Original List:\", my_list)\n",
    "print(\"List after removing empty tuples:\", cleaned_list)"
   ]
  },
  {
   "cell_type": "code",
   "execution_count": 28,
   "metadata": {},
   "outputs": [
    {
     "name": "stdout",
     "output_type": "stream",
     "text": [
      "Original List: [1, 2, 3, 2, 4, 5, 6, 3, 7, 8, 9, 1]\n",
      "Duplicate elements in the list: [1, 2, 3]\n"
     ]
    }
   ],
   "source": [
    "#DUPLICATES FROM A LIST OF INTEGERS \n",
    "\n",
    "def find_duplicates(lst):\n",
    "    seen = set()\n",
    "    duplicates = set()\n",
    "\n",
    "    for number in lst:\n",
    "        if number in seen:\n",
    "            duplicates.add(number)\n",
    "        else:\n",
    "            seen.add(number)\n",
    "\n",
    "    return list(duplicates)\n",
    "\n",
    "my_list = [1, 2, 3, 2, 4, 5, 6, 3, 7, 8, 9, 1]\n",
    "duplicate_elements = find_duplicates(my_list)\n",
    "\n",
    "print(\"Original List:\", my_list)\n",
    "print(\"Duplicate elements in the list:\", duplicate_elements)"
   ]
  },
  {
   "cell_type": "code",
   "execution_count": 29,
   "metadata": {},
   "outputs": [
    {
     "name": "stdout",
     "output_type": "stream",
     "text": [
      "Original List: [1, 2, 3, 4, 5]\n",
      "Cumulative sum using loop: [1, 3, 6, 10, 15]\n"
     ]
    }
   ],
   "source": [
    "#CUMALATIVE SUM OF A LIST\n",
    "\n",
    "def cumulative_sum_using_loop(lst):\n",
    "    cumulative_sum = []\n",
    "    current_sum = 0\n",
    "\n",
    "    for number in lst:\n",
    "        current_sum += number\n",
    "        cumulative_sum.append(current_sum)\n",
    "\n",
    "    return cumulative_sum\n",
    "\n",
    "my_list = [1, 2, 3, 4, 5]\n",
    "cumulative_result = cumulative_sum_using_loop(my_list)\n",
    "\n",
    "print(\"Original List:\", my_list)\n",
    "print(\"Cumulative sum using loop:\", cumulative_result)"
   ]
  },
  {
   "cell_type": "code",
   "execution_count": 30,
   "metadata": {},
   "outputs": [
    {
     "name": "stdout",
     "output_type": "stream",
     "text": [
      "Original List: [123, 456, 789, 12, -34]\n",
      "Sum of digits in each number: [6, 15, 24, 3, 7]\n"
     ]
    }
   ],
   "source": [
    "#SUM OF NUMBER DIGITS IN A LIST\n",
    "\n",
    "def sum_of_digits(number):\n",
    "    return sum(int(digit) for digit in str(abs(number)))\n",
    "\n",
    "def sum_of_digits_in_list(lst):\n",
    "    return [sum_of_digits(number) for number in lst]\n",
    "\n",
    "my_list = [123, 456, 789, 12, -34]\n",
    "digit_sums = sum_of_digits_in_list(my_list)\n",
    "\n",
    "print(\"Original List:\", my_list)\n",
    "print(\"Sum of digits in each number:\", digit_sums)"
   ]
  },
  {
   "cell_type": "code",
   "execution_count": 31,
   "metadata": {},
   "outputs": [
    {
     "name": "stdout",
     "output_type": "stream",
     "text": [
      "Original List: [1, 2, 3, 4, 5, 6, 7, 8, 9]\n",
      "List broken into chunks of size 3: [[1, 2, 3], [4, 5, 6], [7, 8, 9]]\n"
     ]
    }
   ],
   "source": [
    "#BREAKING A LIST INTO CHUNKS OF SIZE N \n",
    "\n",
    "def break_into_chunks(lst, chunk_size):\n",
    "    return [lst[i:i + chunk_size] for i in range(0, len(lst), chunk_size)]\n",
    "\n",
    "my_list = [1, 2, 3, 4, 5, 6, 7, 8, 9]\n",
    "chunk_size = 3\n",
    "\n",
    "chunks = break_into_chunks(my_list, chunk_size)\n",
    "\n",
    "print(\"Original List:\", my_list)\n",
    "print(f\"List broken into chunks of size {chunk_size}:\", chunks)"
   ]
  },
  {
   "cell_type": "code",
   "execution_count": 32,
   "metadata": {},
   "outputs": [
    {
     "name": "stdout",
     "output_type": "stream",
     "text": [
      "Original List: [4, 2, 7, 1, 5]\n",
      "Sorting Key: [3, 1, 4, 2, 5]\n",
      "List after sorting by key: [2, 1, 4, 7, 5]\n"
     ]
    }
   ],
   "source": [
    "#SORTING THE VALUES OF FIRST LIST USING SECOND LIST\n",
    "\n",
    "def sort_list_by_key(first_list, second_list):\n",
    "    zipped_lists = zip(second_list, first_list)\n",
    "    sorted_pairs = sorted(zipped_lists)\n",
    "    sorted_values = [value for key, value in sorted_pairs]\n",
    "    return sorted_values\n",
    "\n",
    "list_to_sort = [4, 2, 7, 1, 5]\n",
    "sorting_key = [3, 1, 4, 2, 5]\n",
    "\n",
    "sorted_list = sort_list_by_key(list_to_sort, sorting_key)\n",
    "\n",
    "print(\"Original List:\", list_to_sort)\n",
    "print(\"Sorting Key:\", sorting_key)\n",
    "print(\"List after sorting by key:\", sorted_list)"
   ]
  },
  {
   "cell_type": "code",
   "execution_count": 33,
   "metadata": {},
   "outputs": [
    {
     "name": "stdout",
     "output_type": "stream",
     "text": [
      "Matrix 1:\n",
      "[1, 2, 3]\n",
      "[4, 5, 6]\n",
      "[7, 8, 9]\n",
      "\n",
      "Matrix 2:\n",
      "[9, 8, 7]\n",
      "[6, 5, 4]\n",
      "[3, 2, 1]\n",
      "\n",
      "Sum of Matrices:\n",
      "[10, 10, 10]\n",
      "[10, 10, 10]\n",
      "[10, 10, 10]\n"
     ]
    }
   ],
   "source": [
    "#ADDING 2 MATRICES\n",
    "\n",
    "def add_matrices(matrix1, matrix2):\n",
    "    if len(matrix1) != len(matrix2) or len(matrix1[0]) != len(matrix2[0]):\n",
    "        print(\"Matrix dimensions are not compatible for addition.\")\n",
    "        return None\n",
    "\n",
    "    result_matrix = [[matrix1[i][j] + matrix2[i][j] for j in range(len(matrix1[0]))] for i in range(len(matrix1))]\n",
    "    return result_matrix\n",
    "\n",
    "matrix1 = [\n",
    "    [1, 2, 3],\n",
    "    [4, 5, 6],\n",
    "    [7, 8, 9]\n",
    "]\n",
    "\n",
    "matrix2 = [\n",
    "    [9, 8, 7],\n",
    "    [6, 5, 4],\n",
    "    [3, 2, 1]\n",
    "]\n",
    "\n",
    "result = add_matrices(matrix1, matrix2)\n",
    "\n",
    "if result is not None:\n",
    "    print(\"Matrix 1:\")\n",
    "    for row in matrix1:\n",
    "        print(row)\n",
    "\n",
    "    print(\"\\nMatrix 2:\")\n",
    "    for row in matrix2:\n",
    "        print(row)\n",
    "\n",
    "    print(\"\\nSum of Matrices:\")\n",
    "    for row in result:\n",
    "        print(row)"
   ]
  },
  {
   "cell_type": "code",
   "execution_count": 34,
   "metadata": {},
   "outputs": [
    {
     "name": "stdout",
     "output_type": "stream",
     "text": [
      "Matrix 1:\n",
      "[1, 2, 3]\n",
      "[4, 5, 6]\n",
      "[7, 8, 9]\n",
      "\n",
      "Matrix 2:\n",
      "[9, 8, 7]\n",
      "[6, 5, 4]\n",
      "[3, 2, 1]\n",
      "\n",
      "Product of Matrices:\n",
      "[30, 24, 18]\n",
      "[84, 69, 54]\n",
      "[138, 114, 90]\n"
     ]
    }
   ],
   "source": [
    "#MULTIPLYING 2 MATRICES\n",
    "\n",
    "def multiply_matrices(matrix1, matrix2):\n",
    "    if len(matrix1[0]) != len(matrix2):\n",
    "        print(\"Matrix dimensions are not compatible for multiplication.\")\n",
    "        return None\n",
    "\n",
    "    result_matrix = [[0 for _ in range(len(matrix2[0]))] for _ in range(len(matrix1))]\n",
    "\n",
    "    for i in range(len(matrix1)):\n",
    "        for j in range(len(matrix2[0])):\n",
    "            for k in range(len(matrix2)):\n",
    "                result_matrix[i][j] += matrix1[i][k] * matrix2[k][j]\n",
    "\n",
    "    return result_matrix\n",
    "\n",
    "matrix1 = [\n",
    "    [1, 2, 3],\n",
    "    [4, 5, 6],\n",
    "    [7, 8, 9]\n",
    "]\n",
    "\n",
    "matrix2 = [\n",
    "    [9, 8, 7],\n",
    "    [6, 5, 4],\n",
    "    [3, 2, 1]\n",
    "]\n",
    "\n",
    "result = multiply_matrices(matrix1, matrix2)\n",
    "\n",
    "if result is not None:\n",
    "    print(\"Matrix 1:\")\n",
    "    for row in matrix1:\n",
    "        print(row)\n",
    "\n",
    "    print(\"\\nMatrix 2:\")\n",
    "    for row in matrix2:\n",
    "        print(row)\n",
    "\n",
    "    print(\"\\nProduct of Matrices:\")\n",
    "    for row in result:\n",
    "        print(row)"
   ]
  },
  {
   "cell_type": "code",
   "execution_count": 36,
   "metadata": {},
   "outputs": [
    {
     "name": "stdout",
     "output_type": "stream",
     "text": [
      "Matrix 1:\n",
      "[1, 2, 3]\n",
      "[4, 5, 6]\n",
      "[7, 8, 9]\n",
      "\n",
      "Matrix 2:\n",
      "[9, 8, 7]\n",
      "[6, 5, 4]\n",
      "[3, 2, 1]\n",
      "\n",
      "Result of Matrix Subtraction:\n",
      "[-8, -6, -4]\n",
      "[-2, 0, 2]\n",
      "[4, 6, 8]\n"
     ]
    }
   ],
   "source": [
    "#MATRIX SUBTRACTION\n",
    "\n",
    "def subtract_matrices(matrix1, matrix2):\n",
    "    if len(matrix1) != len(matrix2) or len(matrix1[0]) != len(matrix2[0]):\n",
    "        print(\"Matrix dimensions are not compatible for subtraction.\")\n",
    "        return None\n",
    "\n",
    "    result_matrix = [[matrix1[i][j] - matrix2[i][j] for j in range(len(matrix1[0]))] for i in range(len(matrix1))]\n",
    "\n",
    "    return result_matrix\n",
    "\n",
    "matrix1 = [\n",
    "    [1, 2, 3],\n",
    "    [4, 5, 6],\n",
    "    [7, 8, 9]\n",
    "]\n",
    "\n",
    "matrix2 = [\n",
    "    [9, 8, 7],\n",
    "    [6, 5, 4],\n",
    "    [3, 2, 1]\n",
    "]\n",
    "\n",
    "result = subtract_matrices(matrix1, matrix2)\n",
    "\n",
    "if result is not None:\n",
    "    print(\"Matrix 1:\")\n",
    "    for row in matrix1:\n",
    "        print(row)\n",
    "\n",
    "    print(\"\\nMatrix 2:\")\n",
    "    for row in matrix2:\n",
    "        print(row)\n",
    "\n",
    "    print(\"\\nResult of Matrix Subtraction:\")\n",
    "    for row in result:\n",
    "        print(row)"
   ]
  },
  {
   "cell_type": "code",
   "execution_count": 37,
   "metadata": {},
   "outputs": [
    {
     "name": "stdout",
     "output_type": "stream",
     "text": [
      "Original Matrix:\n",
      "[1, 2, 3]\n",
      "[4, 5, 6]\n",
      "[7, 8, 9]\n",
      "\n",
      "Transposed Matrix:\n",
      "[1, 4, 7]\n",
      "[2, 5, 8]\n",
      "[3, 6, 9]\n"
     ]
    }
   ],
   "source": [
    "#TRANSPOSING A MATRIX IN A SINGLE LINE\n",
    "\n",
    "def transpose_matrix(matrix):\n",
    "    return [list(row) for row in zip(*matrix)]\n",
    "\n",
    "original_matrix = [\n",
    "    [1, 2, 3],\n",
    "    [4, 5, 6],\n",
    "    [7, 8, 9]\n",
    "]\n",
    "\n",
    "transposed_matrix = transpose_matrix(original_matrix)\n",
    "\n",
    "print(\"Original Matrix:\")\n",
    "for row in original_matrix:\n",
    "    print(row)\n",
    "\n",
    "print(\"\\nTransposed Matrix:\")\n",
    "for row in transposed_matrix:\n",
    "    print(row)"
   ]
  },
  {
   "cell_type": "code",
   "execution_count": 38,
   "metadata": {},
   "outputs": [
    {
     "name": "stdout",
     "output_type": "stream",
     "text": [
      "3x3 Matrix:\n",
      "[0, 0, 0]\n",
      "[0, 0, 0]\n",
      "[0, 0, 0]\n"
     ]
    }
   ],
   "source": [
    "#MATRIX CREATION OF N*N\n",
    "\n",
    "def create_matrix(n):\n",
    "    return [[0 for _ in range(n)] for _ in range(n)]\n",
    "\n",
    "n = 3\n",
    "my_matrix = create_matrix(n)\n",
    "\n",
    "print(f\"{n}x{n} Matrix:\")\n",
    "for row in my_matrix:\n",
    "    print(row)"
   ]
  },
  {
   "cell_type": "code",
   "execution_count": 39,
   "metadata": {},
   "outputs": [
    {
     "name": "stdout",
     "output_type": "stream",
     "text": [
      "1th Column of the Matrix:\n",
      "2\n",
      "5\n",
      "8\n"
     ]
    }
   ],
   "source": [
    "#K'TH COLOUMN OF A MATRIX\n",
    "\n",
    "def get_kth_column(matrix, k):\n",
    "    return [row[k] for row in matrix]\n",
    "\n",
    "my_matrix = [\n",
    "    [1, 2, 3],\n",
    "    [4, 5, 6],\n",
    "    [7, 8, 9]\n",
    "]\n",
    "\n",
    "k = 1 \n",
    "\n",
    "column_k = get_kth_column(my_matrix, k)\n",
    "\n",
    "print(f\"{k}th Column of the Matrix:\")\n",
    "for value in column_k:\n",
    "    print(value)"
   ]
  },
  {
   "cell_type": "code",
   "execution_count": 40,
   "metadata": {},
   "outputs": [
    {
     "name": "stdout",
     "output_type": "stream",
     "text": [
      "Matrix 1:\n",
      "[1, 2, 3]\n",
      "[4, 5, 6]\n",
      "\n",
      "Matrix 2:\n",
      "[7, 8, 9]\n",
      "[10, 11, 12]\n",
      "\n",
      "Result of Vertical Concatenation:\n",
      "[1, 2, 3]\n",
      "[4, 5, 6]\n",
      "[7, 8, 9]\n",
      "[10, 11, 12]\n"
     ]
    }
   ],
   "source": [
    "#VERTICAL CONCATENATION IN MATRIX\n",
    "\n",
    "def vertical_concatenation(matrix1, matrix2):\n",
    "    if len(matrix1[0]) != len(matrix2[0]):\n",
    "        print(\"Matrix dimensions are not compatible for vertical concatenation.\")\n",
    "        return None\n",
    "\n",
    "    return matrix1 + matrix2\n",
    "\n",
    "matrix1 = [\n",
    "    [1, 2, 3],\n",
    "    [4, 5, 6],\n",
    "]\n",
    "\n",
    "matrix2 = [\n",
    "    [7, 8, 9],\n",
    "    [10, 11, 12],\n",
    "]\n",
    "\n",
    "result_matrix = vertical_concatenation(matrix1, matrix2)\n",
    "\n",
    "if result_matrix is not None:\n",
    "    print(\"Matrix 1:\")\n",
    "    for row in matrix1:\n",
    "        print(row)\n",
    "\n",
    "    print(\"\\nMatrix 2:\")\n",
    "    for row in matrix2:\n",
    "        print(row)\n",
    "\n",
    "    print(\"\\nResult of Vertical Concatenation:\")\n",
    "    for row in result_matrix:\n",
    "        print(row)"
   ]
  },
  {
   "cell_type": "code",
   "execution_count": 1,
   "metadata": {},
   "outputs": [
    {
     "name": "stdout",
     "output_type": "stream",
     "text": [
      "The string is not a palindrome.\n"
     ]
    }
   ],
   "source": [
    "#CHECKING IF STRING IS PALINDROME OR NOT\n",
    "\n",
    "def is_palindrome(s):\n",
    "    clean_s = ''.join(c.lower() for c in s if c.isalnum())\n",
    "    return clean_s == clean_s[::-1]\n",
    "\n",
    "input_string = input(\"Enter a string: \")\n",
    "if is_palindrome(input_string):\n",
    "    print(\"The string is a palindrome.\")\n",
    "else:\n",
    "    print(\"The string is not a palindrome.\")"
   ]
  },
  {
   "cell_type": "code",
   "execution_count": 2,
   "metadata": {},
   "outputs": [
    {
     "name": "stdout",
     "output_type": "stream",
     "text": [
      "The string is neither symmetrical nor a palindrome.\n"
     ]
    }
   ],
   "source": [
    "#CHECKING WHETHER A STRING IS SYMMETRICAL OR PALINDROME\n",
    "\n",
    "def is_palindrome(s):\n",
    "    clean_s = ''.join(c.lower() for c in s if c.isalnum())\n",
    "    return clean_s == clean_s[::-1]\n",
    "\n",
    "def is_symmetrical(s):\n",
    "    n = len(s)\n",
    "    mid = n // 2\n",
    "\n",
    "    if n % 2 == 0: \n",
    "        return s[:mid] == s[mid:]\n",
    "    else:  \n",
    "        return s[:mid] == s[mid + 1:]\n",
    "\n",
    "input_string = input(\"Enter a string: \")\n",
    "symmetry = is_symmetrical(input_string)\n",
    "palindrome = is_palindrome(input_string)\n",
    "\n",
    "if symmetry and palindrome:\n",
    "    print(\"The string is both symmetrical and a palindrome.\")\n",
    "elif symmetry:\n",
    "    print(\"The string is symmetrical but not a palindrome.\")\n",
    "elif palindrome:\n",
    "    print(\"The string is a palindrome but not symmetrical.\")\n",
    "else:\n",
    "    print(\"The string is neither symmetrical nor a palindrome.\")"
   ]
  },
  {
   "cell_type": "code",
   "execution_count": 4,
   "metadata": {},
   "outputs": [
    {
     "name": "stdout",
     "output_type": "stream",
     "text": [
      "Reversed String: manash\n"
     ]
    }
   ],
   "source": [
    "#REVERSING WORDS IN A STRING\n",
    "\n",
    "def reverse_words_in_string(s):\n",
    "    words = s.split()\n",
    "    reversed_words = words[::-1]\n",
    "\n",
    "    reversed_string = ' '.join(reversed_words)\n",
    "    return reversed_string\n",
    "\n",
    "input_string = input(\"Enter a string: \")\n",
    "reversed_string = reverse_words_in_string(input_string)\n",
    "print(\"Reversed String:\", reversed_string)"
   ]
  },
  {
   "cell_type": "code",
   "execution_count": 5,
   "metadata": {},
   "outputs": [
    {
     "name": "stdout",
     "output_type": "stream",
     "text": [
      "String after removal of i'th character: acd\n"
     ]
    }
   ],
   "source": [
    "#REMOVING I'TH CHARACTER FROM A STRING\n",
    "\n",
    "def remove_ith_char(s, i):\n",
    "    if i > len(s) or i < 1:\n",
    "        return \"Invalid Index\"\n",
    "    return s[:i-1] + s[i:]\n",
    "\n",
    "input_string = input(\"Enter a string: \")\n",
    "index_to_remove = int(input(\"Enter the index of the character to remove: \"))\n",
    "result_string = remove_ith_char(input_string, index_to_remove)\n",
    "print(\"String after removal of i'th character:\", result_string)"
   ]
  },
  {
   "cell_type": "code",
   "execution_count": 6,
   "metadata": {},
   "outputs": [
    {
     "name": "stdout",
     "output_type": "stream",
     "text": [
      "The substring 'bc' is present in the main string.\n"
     ]
    }
   ],
   "source": [
    "#CHECKING IF A SUBSTRING IS PRESENT IN A STRING\n",
    "\n",
    "def is_substring_present(main_string, substring):\n",
    "    return substring in main_string\n",
    "\n",
    "main_string = input(\"Enter the main string: \")\n",
    "substring_to_check = input(\"Enter the substring to check: \")\n",
    "\n",
    "if is_substring_present(main_string, substring_to_check):\n",
    "    print(f\"The substring '{substring_to_check}' is present in the main string.\")\n",
    "else:\n",
    "    print(f\"The substring '{substring_to_check}' is not present in the main string.\")"
   ]
  },
  {
   "cell_type": "code",
   "execution_count": 7,
   "metadata": {},
   "outputs": [
    {
     "name": "stdout",
     "output_type": "stream",
     "text": [
      "'abcd': 1\n"
     ]
    }
   ],
   "source": [
    "#WORDS FREQUENCY IN STRING SHORTHANDS\n",
    "\n",
    "def word_frequency(s):\n",
    "    \n",
    "    words = s.split()\n",
    "\n",
    "    frequency = {}\n",
    "\n",
    "    for word in words:\n",
    "        frequency[word] = frequency.get(word, 0) + 1\n",
    "\n",
    "    return frequency\n",
    "\n",
    "input_string = input(\"Enter a string: \")\n",
    "frequencies = word_frequency(input_string)\n",
    "for word, freq in frequencies.items():\n",
    "    print(f\"'{word}': {freq}\")"
   ]
  },
  {
   "cell_type": "code",
   "execution_count": 8,
   "metadata": {},
   "outputs": [
    {
     "name": "stdout",
     "output_type": "stream",
     "text": [
      "Pascal Case String: Bcd\n"
     ]
    }
   ],
   "source": [
    "#CONVERTING SNAKE CASE TO PASCAL CASE\n",
    "\n",
    "def snake_to_pascal(s):\n",
    "    return ''.join(word.capitalize() for word in s.split('_'))\n",
    "\n",
    "snake_case_string = input(\"Enter a snake case string: \")\n",
    "pascal_case_string = snake_to_pascal(snake_case_string)\n",
    "print(\"Pascal Case String:\", pascal_case_string)"
   ]
  },
  {
   "cell_type": "code",
   "execution_count": 9,
   "metadata": {},
   "outputs": [
    {
     "name": "stdout",
     "output_type": "stream",
     "text": [
      "Length of the string: 4\n"
     ]
    }
   ],
   "source": [
    "#LENGTH OF A STRING\n",
    "\n",
    "def find_string_length(s):\n",
    "    return len(s)\n",
    "\n",
    "input_string = input(\"Enter a string: \")\n",
    "length = find_string_length(input_string)\n",
    "print(\"Length of the string:\", length)"
   ]
  },
  {
   "cell_type": "code",
   "execution_count": 11,
   "metadata": {},
   "outputs": [
    {
     "name": "stdout",
     "output_type": "stream",
     "text": [
      "Even length words:\n",
      "neon\n"
     ]
    }
   ],
   "source": [
    "#EVEN LENGTH WORDS IN A STRING\n",
    "\n",
    "def print_even_length_words(s):\n",
    "    words = s.split()\n",
    "\n",
    "    for word in words:\n",
    "        if len(word) % 2 == 0:\n",
    "            print(word)\n",
    "\n",
    "input_string = input(\"Enter a string: \")\n",
    "print(\"Even length words:\")\n",
    "print_even_length_words(input_string)"
   ]
  },
  {
   "cell_type": "code",
   "execution_count": 12,
   "metadata": {},
   "outputs": [
    {
     "name": "stdout",
     "output_type": "stream",
     "text": [
      "The string does not contain all vowels.\n"
     ]
    }
   ],
   "source": [
    "#ACCEPTING THE STRING WHICH CONTAIN ALL VOWELS \n",
    "\n",
    "def contains_all_vowels(s):\n",
    "    vowels = set(\"aeiou\")\n",
    "\n",
    "    return all(vowel in s.lower() for vowel in vowels)\n",
    "\n",
    "input_string = input(\"Enter a string: \")\n",
    "\n",
    "if contains_all_vowels(input_string):\n",
    "    print(\"The string contains all vowels.\")\n",
    "else:\n",
    "    print(\"The string does not contain all vowels.\")"
   ]
  },
  {
   "cell_type": "code",
   "execution_count": 13,
   "metadata": {},
   "outputs": [
    {
     "name": "stdout",
     "output_type": "stream",
     "text": [
      "Number of matching characters: 2\n"
     ]
    }
   ],
   "source": [
    "#COUNTING THE NO. OF MATCHING CHARACTERS IN A PAIR OF STRING\n",
    "\n",
    "def count_matching_characters(str1, str2):\n",
    "    set1 = set(str1)\n",
    "    set2 = set(str2)\n",
    "\n",
    "    common_characters = set1.intersection(set2)\n",
    "\n",
    "    count = sum(min(str1.count(char), str2.count(char)) for char in common_characters)\n",
    "\n",
    "    return count\n",
    "\n",
    "string1 = input(\"Enter the first string: \")\n",
    "string2 = input(\"Enter the second string: \")\n",
    "\n",
    "result = count_matching_characters(string1, string2)\n",
    "print(f\"Number of matching characters: {result}\")"
   ]
  },
  {
   "cell_type": "code",
   "execution_count": 14,
   "metadata": {},
   "outputs": [
    {
     "name": "stdout",
     "output_type": "stream",
     "text": [
      "String after removing duplicates: neo\n"
     ]
    }
   ],
   "source": [
    "#REMOVING DUPLICATES FROM A STRING\n",
    "\n",
    "def remove_duplicates(s):\n",
    "    seen = set()\n",
    "    result = []\n",
    "    \n",
    "    for char in s:\n",
    "        if char not in seen:\n",
    "            seen.add(char)\n",
    "            result.append(char)\n",
    "\n",
    "    return ''.join(result)\n",
    "\n",
    "input_string = input(\"Enter a string: \")\n",
    "output_string = remove_duplicates(input_string)\n",
    "print(\"String after removing duplicates:\", output_string)"
   ]
  },
  {
   "cell_type": "code",
   "execution_count": 15,
   "metadata": {},
   "outputs": [
    {
     "name": "stdout",
     "output_type": "stream",
     "text": [
      "The least frequent character is: e\n"
     ]
    }
   ],
   "source": [
    "#LEAST FREQUENT CHARACTER IN A STRING\n",
    "\n",
    "def least_frequent_character(s):\n",
    "    char_frequency = {}\n",
    "\n",
    "    for char in s:\n",
    "        char_frequency[char] = char_frequency.get(char, 0) + 1\n",
    "\n",
    "    least_frequent = min(char_frequency, key=char_frequency.get)\n",
    "\n",
    "    return least_frequent\n",
    "\n",
    "input_string = input(\"Enter a string: \")\n",
    "\n",
    "if input_string:\n",
    "    result = least_frequent_character(input_string)\n",
    "    print(f\"The least frequent character is: {result}\")\n",
    "else:\n",
    "    print(\"Please enter a non-empty string.\")"
   ]
  },
  {
   "cell_type": "code",
   "execution_count": 16,
   "metadata": {},
   "outputs": [
    {
     "name": "stdout",
     "output_type": "stream",
     "text": [
      "The most frequent character is: n\n"
     ]
    }
   ],
   "source": [
    "#MAXIMUM FREQUENT CHARACTER IN A STRING\n",
    "\n",
    "def most_frequent_character(s):\n",
    "    char_frequency = {}\n",
    "\n",
    "    for char in s:\n",
    "        char_frequency[char] = char_frequency.get(char, 0) + 1\n",
    "\n",
    "    most_frequent = max(char_frequency, key=char_frequency.get)\n",
    "\n",
    "    return most_frequent\n",
    "\n",
    "input_string = input(\"Enter a string: \")\n",
    "\n",
    "if input_string:\n",
    "    result = most_frequent_character(input_string)\n",
    "    print(f\"The most frequent character is: {result}\")\n",
    "else:\n",
    "    print(\"Please enter a non-empty string.\")"
   ]
  },
  {
   "cell_type": "code",
   "execution_count": 18,
   "metadata": {},
   "outputs": [
    {
     "name": "stdout",
     "output_type": "stream",
     "text": [
      "The string contains special characters.\n"
     ]
    }
   ],
   "source": [
    "#CHECKING IF A STRING CONTAINS ANY SPECIAL CHARACTER\n",
    "\n",
    "import re\n",
    "import string\n",
    "\n",
    "def contains_special_character(s):\n",
    "    pattern = re.compile('[' + re.escape(string.punctuation) + ']')\n",
    "    \n",
    "    if pattern.search(s):\n",
    "        return True\n",
    "    else:\n",
    "        return False\n",
    "\n",
    "input_string = input(\"Enter a string: \")\n",
    "if contains_special_character(input_string):\n",
    "    print(\"The string contains special characters.\")\n",
    "else:\n",
    "    print(\"The string does not contain special characters.\")"
   ]
  },
  {
   "cell_type": "code",
   "execution_count": null,
   "metadata": {},
   "outputs": [],
   "source": [
    "#GENERATING RANDOM STRINGS UNTIL A GIVEN STRING IS GENERATED\n",
    "\n",
    "import random\n",
    "import string\n",
    "\n",
    "def generate_random_string(length):\n",
    "    \"\"\"Generate a random string of fixed length.\"\"\"\n",
    "    letters = string.ascii_letters + string.digits\n",
    "    return ''.join(random.choice(letters) for i in range(length))\n",
    "\n",
    "def main(target):\n",
    "    generated = None\n",
    "    attempts = 0\n",
    "\n",
    "    while generated != target:\n",
    "        generated = generate_random_string(len(target))\n",
    "        attempts += 1\n",
    "        print(f\"Attempt {attempts}: {generated}\")\n",
    "\n",
    "    print(f\"\\nTarget string '{target}' generated after {attempts} attempts.\")\n",
    "\n",
    "# Test the program\n",
    "target_string = input(\"Enter the target string: \")\n",
    "main(target_string)"
   ]
  },
  {
   "cell_type": "code",
   "execution_count": 20,
   "metadata": {},
   "outputs": [
    {
     "name": "stdout",
     "output_type": "stream",
     "text": [
      "Words longer than 3 are: []\n"
     ]
    }
   ],
   "source": [
    "#WORDS GREATRER THAN GIVEN LENGTH K\n",
    "\n",
    "def words_longer_than_k(s, k):\n",
    "    words = s.split()\n",
    "\n",
    "    longer_words = [word for word in words if len(word) > k]\n",
    "\n",
    "    return longer_words\n",
    "\n",
    "input_string = input(\"Enter a string: \")\n",
    "length_k = int(input(\"Enter the value of k: \"))\n",
    "\n",
    "result = words_longer_than_k(input_string, length_k)\n",
    "print(f\"Words longer than {length_k} are: {result}\")"
   ]
  },
  {
   "cell_type": "code",
   "execution_count": 21,
   "metadata": {},
   "outputs": [
    {
     "name": "stdout",
     "output_type": "stream",
     "text": [
      "String after removal of i'th character: abc\n"
     ]
    }
   ],
   "source": [
    "#REMOVING I'TH CHARACTER FROM A STRING\n",
    "\n",
    "def remove_ith_character(s, i):\n",
    "    if 0 <= i < len(s):\n",
    "        return s[:i] + s[i+1:]\n",
    "    else:\n",
    "        return \"Invalid index\"\n",
    "    \n",
    "input_string = input(\"Enter a string: \")\n",
    "index_to_remove = int(input(\"Enter the index of the character to remove: \"))\n",
    "\n",
    "result_string = remove_ith_character(input_string, index_to_remove)\n",
    "print(\"String after removal of i'th character:\", result_string)"
   ]
  },
  {
   "cell_type": "code",
   "execution_count": 22,
   "metadata": {},
   "outputs": [
    {
     "name": "stdout",
     "output_type": "stream",
     "text": [
      "\n",
      "Original string:\n",
      "abcd\n",
      "\n",
      "Split words:\n",
      "['abcd']\n",
      "\n",
      "Joined string:\n",
      "abcd\n"
     ]
    }
   ],
   "source": [
    "#SPLITING AND JOING A STRING\n",
    "\n",
    "def split_and_join(s):\n",
    "    words = s.split()\n",
    "\n",
    "    joined_string = ' '.join(words)\n",
    "\n",
    "    return words, joined_string\n",
    "\n",
    "input_string = input(\"Enter a string: \")\n",
    "\n",
    "split_words, joined_result = split_and_join(input_string)\n",
    "\n",
    "print(\"\\nOriginal string:\")\n",
    "print(input_string)\n",
    "\n",
    "print(\"\\nSplit words:\")\n",
    "print(split_words)\n",
    "\n",
    "print(\"\\nJoined string:\")\n",
    "print(joined_result)"
   ]
  },
  {
   "cell_type": "code",
   "execution_count": 23,
   "metadata": {},
   "outputs": [
    {
     "name": "stdout",
     "output_type": "stream",
     "text": [
      "The string is not a binary string.\n"
     ]
    }
   ],
   "source": [
    "#CHECKING STRING IS BINARY OR NOT\n",
    "\n",
    "def is_binary_string(s):\n",
    "    return all(char in '01' for char in s)\n",
    "\n",
    "input_string = input(\"Enter a string: \")\n",
    "\n",
    "if is_binary_string(input_string):\n",
    "    print(\"The string is a binary string.\")\n",
    "else:\n",
    "    print(\"The string is not a binary string.\")"
   ]
  },
  {
   "cell_type": "code",
   "execution_count": 24,
   "metadata": {},
   "outputs": [
    {
     "name": "stdout",
     "output_type": "stream",
     "text": [
      "Uncommon words: {'reyna', 'neon'}\n"
     ]
    }
   ],
   "source": [
    "#UNCOMMON WORDS FROM 2 STRINGS\n",
    "\n",
    "def find_uncommon_words(str1, str2):\n",
    "    set1 = set(str1.split())\n",
    "    set2 = set(str2.split())\n",
    "\n",
    "    uncommon = set1.symmetric_difference(set2)\n",
    "\n",
    "    return uncommon\n",
    "\n",
    "string1 = input(\"Enter the first string: \")\n",
    "string2 = input(\"Enter the second string: \")\n",
    "\n",
    "uncommon_words = find_uncommon_words(string1, string2)\n",
    "print(\"Uncommon words:\", uncommon_words)\n"
   ]
  },
  {
   "cell_type": "code",
   "execution_count": 25,
   "metadata": {},
   "outputs": [
    {
     "name": "stdout",
     "output_type": "stream",
     "text": [
      "String after replacing duplicates: neon\n"
     ]
    }
   ],
   "source": [
    "#REPLACING DUPLICATE OCCURRENCE IN A STRING\n",
    "\n",
    "def replace_duplicate_occurrences(s):\n",
    "    words = s.split()\n",
    "    seen = set()\n",
    "    result = []\n",
    "\n",
    "    for word in words:\n",
    "        if word in seen:\n",
    "            result.append(\"\")  \n",
    "        else:\n",
    "            seen.add(word)\n",
    "            result.append(word)\n",
    "\n",
    "    return ' '.join(result)\n",
    "\n",
    "input_string = input(\"Enter a string: \")\n",
    "result_string = replace_duplicate_occurrences(input_string)\n",
    "print(\"String after replacing duplicates:\", result_string)\n"
   ]
  },
  {
   "cell_type": "code",
   "execution_count": 27,
   "metadata": {},
   "outputs": [
    {
     "name": "stdout",
     "output_type": "stream",
     "text": [
      "String after replacement: neon slide merchant\n"
     ]
    }
   ],
   "source": [
    "#REPLACING MULTIPLE WORDS WITH K\n",
    "\n",
    "def replace_words_with_k(s, words_to_replace, k):\n",
    "    words = s.split()\n",
    "    replaced_words = [k if word in words_to_replace else word for word in words]\n",
    "\n",
    "    return ' '.join(replaced_words)\n",
    "\n",
    "words_to_replace = {'word1', 'word2', 'word3'}  \n",
    "\n",
    "input_string = input(\"Enter a string: \")\n",
    "result_string = replace_words_with_k(input_string, words_to_replace, 'k')\n",
    "print(\"String after replacement:\", result_string)\n"
   ]
  },
  {
   "cell_type": "code",
   "execution_count": 28,
   "metadata": {},
   "outputs": [
    {
     "name": "stdout",
     "output_type": "stream",
     "text": [
      "Permutations of the string:\n",
      "neon\n",
      "neno\n",
      "noen\n",
      "none\n",
      "nneo\n",
      "nnoe\n",
      "enon\n",
      "enno\n",
      "eonn\n",
      "eonn\n",
      "enno\n",
      "enon\n",
      "onen\n",
      "onne\n",
      "oenn\n",
      "oenn\n",
      "onne\n",
      "onen\n",
      "nneo\n",
      "nnoe\n",
      "neno\n",
      "neon\n",
      "none\n",
      "noen\n"
     ]
    }
   ],
   "source": [
    "#PERMUTATION OF A STRING USING INBUILT FUNCTION\n",
    "\n",
    "from itertools import permutations\n",
    "\n",
    "def string_permutations(s):\n",
    "    \n",
    "    permuted_strings = [''.join(p) for p in permutations(s)]\n",
    "\n",
    "    return permuted_strings\n",
    "\n",
    "input_string = input(\"Enter a string: \")\n",
    "result_permutations = string_permutations(input_string)\n",
    "\n",
    "print(\"Permutations of the string:\")\n",
    "for permuted_string in result_permutations:\n",
    "    print(permuted_string)\n"
   ]
  },
  {
   "cell_type": "code",
   "execution_count": 29,
   "metadata": {},
   "outputs": [
    {
     "name": "stdout",
     "output_type": "stream",
     "text": [
      "No URL found in the string.\n"
     ]
    }
   ],
   "source": [
    "#CHECKING FOR URL IN A STRING\n",
    "\n",
    "import re\n",
    "\n",
    "def contains_url(s):\n",
    "    url_pattern = re.compile(r'https?://\\S+|www\\.\\S+')\n",
    "\n",
    "    match = url_pattern.search(s)\n",
    "\n",
    "    return bool(match)\n",
    "\n",
    "input_string = input(\"Enter a string: \")\n",
    "\n",
    "if contains_url(input_string):\n",
    "    print(\"The string contains a URL.\")\n",
    "else:\n",
    "    print(\"No URL found in the string.\")\n"
   ]
  },
  {
   "cell_type": "code",
   "execution_count": 30,
   "metadata": {},
   "outputs": [
    {
     "name": "stdout",
     "output_type": "stream",
     "text": [
      "An error occurred: name 'neon' is not defined\n"
     ]
    }
   ],
   "source": [
    "#EXECUTING A STRING OF CODE\n",
    "\n",
    "def execute_code(code_string):\n",
    "    try:\n",
    "        exec(code_string)\n",
    "    except Exception as e:\n",
    "        return f\"An error occurred: {e}\"\n",
    "    return \"Code executed successfully\"\n",
    "\n",
    "code_to_execute = input(\"Enter the code to execute: \")\n",
    "result = execute_code(code_to_execute)\n",
    "print(result)\n"
   ]
  },
  {
   "cell_type": "code",
   "execution_count": 31,
   "metadata": {},
   "outputs": [
    {
     "name": "stdout",
     "output_type": "stream",
     "text": [
      "Left Rotated String: onne\n",
      "Right Rotated String: onne\n"
     ]
    }
   ],
   "source": [
    "#ROTATING A STRING USING STRING SLICING\n",
    "\n",
    "def rotate_string(s, n):\n",
    "    n = n % len(s)\n",
    "\n",
    "    left_rotate = s[n:] + s[:n]\n",
    "    right_rotate = s[-n:] + s[:-n]\n",
    "    return left_rotate, right_rotate\n",
    "\n",
    "input_string = input(\"Enter a string: \")\n",
    "rotation_amount = int(input(\"Enter rotation amount: \"))\n",
    "\n",
    "left_rotated, right_rotated = rotate_string(input_string, rotation_amount)\n",
    "print(\"Left Rotated String:\", left_rotated)\n",
    "print(\"Right Rotated String:\", right_rotated)\n"
   ]
  },
  {
   "cell_type": "code",
   "execution_count": 32,
   "metadata": {},
   "outputs": [
    {
     "name": "stdout",
     "output_type": "stream",
     "text": [
      "The string cannot become empty by recursive deletion using the pattern 'ne'.\n"
     ]
    }
   ],
   "source": [
    "#STRING SLICING TO CHECK IF A STRING CAN BECOME EMPTY BY RECURSIVE DELETION\n",
    "\n",
    "def can_become_empty(s, pattern):\n",
    "    if not s:\n",
    "        return True\n",
    "\n",
    "    if pattern in s:\n",
    "        index = s.find(pattern)\n",
    "        return can_become_empty(s[:index] + s[index+len(pattern):], pattern)\n",
    "\n",
    "    return False\n",
    "\n",
    "input_string = input(\"Enter a string: \")\n",
    "deletion_pattern = input(\"Enter the deletion pattern: \")\n",
    "\n",
    "if can_become_empty(input_string, deletion_pattern):\n",
    "    print(f\"The string can become empty by recursive deletion using the pattern '{deletion_pattern}'.\")\n",
    "else:\n",
    "    print(f\"The string cannot become empty by recursive deletion using the pattern '{deletion_pattern}'.\")\n"
   ]
  },
  {
   "cell_type": "code",
   "execution_count": 33,
   "metadata": {},
   "outputs": [
    {
     "name": "stdout",
     "output_type": "stream",
     "text": [
      "Duplicate characters: N\n"
     ]
    }
   ],
   "source": [
    "#DUPLICATE CHARACTERS IN A STRING\n",
    "\n",
    "from collections import Counter\n",
    "\n",
    "def find_duplicates(s):\n",
    "    char_count = Counter(s)\n",
    "    duplicates = [char for char, count in char_count.items() if count > 1]\n",
    "    return duplicates\n",
    "\n",
    "input_string = input(\"Enter a string: \")\n",
    "duplicate_chars = find_duplicates(input_string)\n",
    "\n",
    "if duplicate_chars:\n",
    "    print(\"Duplicate characters:\", ', '.join(duplicate_chars))\n",
    "else:\n",
    "    print(\"No duplicate characters found.\")\n"
   ]
  },
  {
   "cell_type": "code",
   "execution_count": 34,
   "metadata": {},
   "outputs": [
    {
     "name": "stdout",
     "output_type": "stream",
     "text": [
      "String after replacement: ONON\n"
     ]
    }
   ],
   "source": [
    "#REPLACING ALL OCCURRENCES OF A SUBSTRING IN A STRING \n",
    "\n",
    "def replace_substring(original_string, old_substring, new_substring):\n",
    "    return original_string.replace(old_substring, new_substring)\n",
    "\n",
    "\n",
    "input_string = input(\"Enter a string: \")\n",
    "old_substring = input(\"Enter the substring to replace: \")\n",
    "new_substring = input(\"Enter the new substring: \")\n",
    "\n",
    "result_string = replace_substring(input_string, old_substring, new_substring)\n",
    "print(\"String after replacement:\", result_string)\n"
   ]
  },
  {
   "cell_type": "code",
   "execution_count": 35,
   "metadata": {},
   "outputs": [
    {
     "name": "stdout",
     "output_type": "stream",
     "text": [
      "Unique values in the dictionary: {10, 20, 30}\n"
     ]
    }
   ],
   "source": [
    "#Extract Unique values dictionary values\n",
    "\n",
    "def unique_dict_values(my_dict):\n",
    "    unique_values = {value for value in my_dict.values()}\n",
    "\n",
    "    return unique_values\n",
    "\n",
    "input_dict = {'key1': 10, 'key2': 20, 'key3': 10, 'key4': 30}\n",
    "unique_values = unique_dict_values(input_dict)\n",
    "\n",
    "print(\"Unique values in the dictionary:\", unique_values)\n"
   ]
  },
  {
   "cell_type": "code",
   "execution_count": 36,
   "metadata": {},
   "outputs": [
    {
     "name": "stdout",
     "output_type": "stream",
     "text": [
      "Sum of all items in the dictionary: 60\n"
     ]
    }
   ],
   "source": [
    "#sum of all items in a dictionary\n",
    "\n",
    "def sum_of_dictionary_values(my_dict):\n",
    "    return sum(my_dict.values())\n",
    "\n",
    "input_dict = {'item1': 10, 'item2': 20, 'item3': 30}\n",
    "\n",
    "result_sum = sum_of_dictionary_values(input_dict)\n",
    "print(\"Sum of all items in the dictionary:\", result_sum)\n",
    "\n"
   ]
  },
  {
   "cell_type": "code",
   "execution_count": 38,
   "metadata": {},
   "outputs": [],
   "source": [
    "#Ways to remove a key from dictionary\n",
    "\n",
    "my_dict = {'key1': 'value1', 'key2': 'value2', 'key3': 'value3'}\n",
    "key_to_remove = 'key2'\n",
    "\n",
    "if key_to_remove in my_dict:\n",
    "    del my_dict[key_to_remove]\n",
    "else:\n",
    "    print(f\"The key '{key_to_remove}' is not present in the dictionary.\")\n"
   ]
  },
  {
   "cell_type": "code",
   "execution_count": 39,
   "metadata": {},
   "outputs": [
    {
     "name": "stdout",
     "output_type": "stream",
     "text": [
      "Sorted list of dictionaries by age:\n",
      "[{'name': 'Charlie', 'age': 20}, {'name': 'Alice', 'age': 25}, {'name': 'Bob', 'age': 30}]\n"
     ]
    }
   ],
   "source": [
    "#Ways to sort list of dictionaries by values – Using itemgetter\n",
    "\n",
    "from operator import itemgetter\n",
    "\n",
    "list_of_dicts = [\n",
    "    {'name': 'Alice', 'age': 25},\n",
    "    {'name': 'Bob', 'age': 30},\n",
    "    {'name': 'Charlie', 'age': 20}\n",
    "]\n",
    "sorted_list = sorted(list_of_dicts, key=itemgetter('age'))\n",
    "\n",
    "print(\"Sorted list of dictionaries by age:\")\n",
    "print(sorted_list)\n",
    "\n"
   ]
  },
  {
   "cell_type": "code",
   "execution_count": 40,
   "metadata": {},
   "outputs": [
    {
     "name": "stdout",
     "output_type": "stream",
     "text": [
      "Sorted list of dictionaries by age:\n",
      "[{'name': 'Charlie', 'age': 20}, {'name': 'Alice', 'age': 25}, {'name': 'Bob', 'age': 30}]\n"
     ]
    }
   ],
   "source": [
    "#Ways to sort list of dictionaries by values – Using lambda function\n",
    "\n",
    "list_of_dicts = [\n",
    "    {'name': 'Alice', 'age': 25},\n",
    "    {'name': 'Bob', 'age': 30},\n",
    "    {'name': 'Charlie', 'age': 20}\n",
    "]\n",
    "\n",
    "sorted_list = sorted(list_of_dicts, key=lambda x: x['age'])\n",
    "\n",
    "print(\"Sorted list of dictionaries by age:\")\n",
    "print(sorted_list)\n"
   ]
  },
  {
   "cell_type": "code",
   "execution_count": 41,
   "metadata": {},
   "outputs": [
    {
     "name": "stdout",
     "output_type": "stream",
     "text": [
      "{'a': 1, 'b': 3, 'c': 4}\n"
     ]
    }
   ],
   "source": [
    "#Merging two Dictionaries\n",
    "\n",
    "dict1 = {'a': 1, 'b': 2}\n",
    "dict2 = {'b': 3, 'c': 4}\n",
    "\n",
    "dict1.update(dict2)\n",
    "print(dict1)  \n"
   ]
  },
  {
   "cell_type": "code",
   "execution_count": null,
   "metadata": {},
   "outputs": [],
   "source": [
    "#Convert key-values list to flat dictionary\n",
    "\n",
    "key_values_list = [('key1', [1, 2]), ('key2', [3, 4])]\n",
    "\n",
    "flat_dict = {key1: value for k, v in key_values_list for value in v}\n",
    "\n",
    "print(flat_dict)\n"
   ]
  },
  {
   "cell_type": "code",
   "execution_count": 43,
   "metadata": {},
   "outputs": [
    {
     "name": "stdout",
     "output_type": "stream",
     "text": [
      "Original OrderedDict: OrderedDict({'a': 1, 'b': 2, 'c': 3})\n",
      "Modified OrderedDict: OrderedDict({'new_key': 0, 'a': 1, 'b': 2, 'c': 3})\n"
     ]
    }
   ],
   "source": [
    "#Insertion at the beginning in OrderedDict\n",
    "\n",
    "from collections import OrderedDict\n",
    "\n",
    "ordered_dict = OrderedDict([('a', 1), ('b', 2), ('c', 3)])\n",
    "\n",
    "print(\"Original OrderedDict:\", ordered_dict)\n",
    "\n",
    "ordered_dict['new_key'] = 0\n",
    "\n",
    "ordered_dict.move_to_end('new_key', last=False)\n",
    "\n",
    "print(\"Modified OrderedDict:\", ordered_dict)\n",
    "\n"
   ]
  },
  {
   "cell_type": "code",
   "execution_count": 44,
   "metadata": {},
   "outputs": [
    {
     "name": "stdout",
     "output_type": "stream",
     "text": [
      "The characters in 'ne' appear in order in the string.\n"
     ]
    }
   ],
   "source": [
    "#Check order of character in string using OrderedDict( )\n",
    "\n",
    "from collections import OrderedDict\n",
    "\n",
    "def check_order(s, pattern):\n",
    "    order_dict = OrderedDict.fromkeys(pattern)\n",
    "\n",
    "    index = 0\n",
    "    for char in s:\n",
    "        if char == pattern[index]:\n",
    "            index += 1\n",
    "            if index == len(pattern):\n",
    "                return True\n",
    "\n",
    "    return False\n",
    "\n",
    "input_string = input(\"Enter a string: \")\n",
    "pattern_to_check = input(\"Enter the pattern to check: \")\n",
    "\n",
    "result = check_order(input_string, pattern_to_check)\n",
    "\n",
    "if result:\n",
    "    print(f\"The characters in '{pattern_to_check}' appear in order in the string.\")\n",
    "else:\n",
    "    print(f\"The characters in '{pattern_to_check}' do not appear in order in the string.\")\n",
    "\n"
   ]
  },
  {
   "cell_type": "code",
   "execution_count": 45,
   "metadata": {},
   "outputs": [
    {
     "name": "stdout",
     "output_type": "stream",
     "text": [
      "The winner of the election is: Bob\n"
     ]
    }
   ],
   "source": [
    "#Dictionary and counter to find winner of election\n",
    "\n",
    "from collections import Counter\n",
    "\n",
    "def find_election_winner(votes):\n",
    "    vote_count = Counter(votes)\n",
    "\n",
    "    max_votes = max(vote_count.values())\n",
    "\n",
    "    candidates = [candidate for candidate, votes in vote_count.items() if votes == max_votes]\n",
    "\n",
    "    return sorted(candidates)[0]\n",
    "\n",
    "votes = [\"Alice\", \"Bob\", \"Alice\", \"Charlie\", \"Bob\", \"Bob\", \"Charlie\"]\n",
    "winner = find_election_winner(votes)\n",
    "print(f\"The winner of the election is: {winner}\")\n",
    "\n"
   ]
  },
  {
   "cell_type": "code",
   "execution_count": 46,
   "metadata": {},
   "outputs": [
    {
     "name": "stdout",
     "output_type": "stream",
     "text": [
      "Appended Dictionary: {'a': 1, 'b': 2, 'c': 3}\n"
     ]
    }
   ],
   "source": [
    "#Append Dictionary Keys and Values ( In order ) in dictionary\n",
    "\n",
    "original_dict = {'a': 1, 'b': 2, 'c': 3}\n",
    "\n",
    "append_dict = {}\n",
    "\n",
    "for key, value in original_dict.items():\n",
    "    append_dict.update({key: value})\n",
    "\n",
    "print(\"Appended Dictionary:\", append_dict)\n",
    "\n"
   ]
  },
  {
   "cell_type": "code",
   "execution_count": 47,
   "metadata": {},
   "outputs": [
    {
     "name": "stdout",
     "output_type": "stream",
     "text": [
      "Dictionary sorted by key: {'a': 1, 'b': 3, 'c': 2}\n"
     ]
    }
   ],
   "source": [
    "#Sort Dictionaries by Key or Value\n",
    "\n",
    "my_dict = {'b': 3, 'a': 1, 'c': 2}\n",
    "\n",
    "sorted_dict_by_key = dict(sorted(my_dict.items()))\n",
    "\n",
    "print(\"Dictionary sorted by key:\", sorted_dict_by_key)\n",
    "\n"
   ]
  },
  {
   "cell_type": "code",
   "execution_count": 48,
   "metadata": {},
   "outputs": [
    {
     "name": "stdout",
     "output_type": "stream",
     "text": [
      "Sorted Dictionary:\n",
      "key1: [1, 4, 6]\n",
      "key2: [3, 7, 9]\n",
      "key3: [2, 5, 8]\n"
     ]
    }
   ],
   "source": [
    "#Sort Dictionary key and values List\n",
    "\n",
    "my_dict = {'key3': [5, 2, 8], 'key1': [1, 4, 6], 'key2': [3, 7, 9]}\n",
    "\n",
    "sorted_keys = sorted(my_dict.keys())\n",
    "\n",
    "sorted_dict = {key: sorted(my_dict[key]) for key in sorted_keys}\n",
    "\n",
    "print(\"Sorted Dictionary:\")\n",
    "for key, value in sorted_dict.items():\n",
    "    print(f\"{key}: {value}\")\n",
    "\n"
   ]
  },
  {
   "cell_type": "code",
   "execution_count": 49,
   "metadata": {},
   "outputs": [
    {
     "name": "stdout",
     "output_type": "stream",
     "text": [
      "0\n"
     ]
    }
   ],
   "source": [
    "#Handling missing keys in dictionaries\n",
    "\n",
    "my_dict = {'a': 1, 'b': 2, 'c': 3}\n",
    "\n",
    "value = my_dict.get('d', 0)\n",
    "print(value)\n",
    "\n"
   ]
  },
  {
   "cell_type": "code",
   "execution_count": 50,
   "metadata": {},
   "outputs": [
    {
     "name": "stdout",
     "output_type": "stream",
     "text": [
      "Engineer\n",
      "Doctor\n",
      "Artist\n"
     ]
    }
   ],
   "source": [
    "#Dictionary with keys having multiple inputs\n",
    "\n",
    "my_dict = {\n",
    "    ('Alice', 25): 'Engineer',\n",
    "    ('Bob', 30): 'Doctor',\n",
    "    ('Charlie', 22): 'Artist'\n",
    "}\n",
    "\n",
    "print(my_dict[('Alice', 25)])  \n",
    "print(my_dict[('Bob', 30)])    \n",
    "print(my_dict[('Charlie', 22)])\n",
    "\n"
   ]
  },
  {
   "cell_type": "code",
   "execution_count": 51,
   "metadata": {},
   "outputs": [
    {
     "name": "stdout",
     "output_type": "stream",
     "text": [
      "listen silent enlist\n",
      "heart earth\n",
      "rat tar\n"
     ]
    }
   ],
   "source": [
    "#Print anagrams together using List and Dictionary\n",
    "\n",
    "def sort_tuple(word):\n",
    "    return tuple(sorted(word))\n",
    "\n",
    "def print_anagrams_together(words):\n",
    "    anagram_dict = {}\n",
    "\n",
    "    for word in words:\n",
    "        sorted_tuple = sort_tuple(word)\n",
    "        if sorted_tuple in anagram_dict:\n",
    "            anagram_dict[sorted_tuple].append(word)\n",
    "        else:\n",
    "            anagram_dict[sorted_tuple] = [word]\n",
    "\n",
    "    for group in anagram_dict.values():\n",
    "        print(\" \".join(group))\n",
    "\n",
    "word_list = [\"listen\", \"silent\", \"enlist\", \"heart\", \"earth\", \"rat\", \"tar\"]\n",
    "print_anagrams_together(word_list)\n",
    "\n"
   ]
  },
  {
   "cell_type": "code",
   "execution_count": 52,
   "metadata": {},
   "outputs": [
    {
     "name": "stdout",
     "output_type": "stream",
     "text": [
      "r\n"
     ]
    }
   ],
   "source": [
    "#K’th Non-repeating Character using List Comprehension and OrderedDict\n",
    "\n",
    "from collections import OrderedDict\n",
    "\n",
    "def kth_non_repeating_char(string, k):\n",
    "    char_count = OrderedDict()\n",
    "    for char in string:\n",
    "        char_count[char] = char_count.get(char, 0) + 1\n",
    "\n",
    "    non_repeating_chars = [key for key, value in char_count.items() if value == 1]\n",
    "\n",
    "    if len(non_repeating_chars) >= k:\n",
    "        return non_repeating_chars[k-1]\n",
    "    else:\n",
    "        return 'Character not found'\n",
    "\n",
    "string = \"geeksforgeeks\"\n",
    "k = 3\n",
    "print(kth_non_repeating_char(string, k))   \n",
    "\n"
   ]
  },
  {
   "cell_type": "code",
   "execution_count": 53,
   "metadata": {},
   "outputs": [
    {
     "name": "stdout",
     "output_type": "stream",
     "text": [
      "The binary representations of 5 and 10 are not anagrams.\n"
     ]
    }
   ],
   "source": [
    "#Check if binary representations of two numbers are anagram\n",
    "\n",
    "def are_binary_anagrams(num1, num2):\n",
    "    binary_str1 = bin(num1)[2:]\n",
    "    binary_str2 = bin(num2)[2:]\n",
    "    return sorted(binary_str1) == sorted(binary_str2)\n",
    "\n",
    "num1 = 5\n",
    "num2 = 10\n",
    "result = are_binary_anagrams(num1, num2)\n",
    "\n",
    "if result:\n",
    "    print(f\"The binary representations of {num1} and {num2} are anagrams.\")\n",
    "else:\n",
    "    print(f\"The binary representations of {num1} and {num2} are not anagrams.\")\n",
    "\n"
   ]
  },
  {
   "cell_type": "code",
   "execution_count": 54,
   "metadata": {},
   "outputs": [
    {
     "name": "stdout",
     "output_type": "stream",
     "text": [
      "3\n"
     ]
    }
   ],
   "source": [
    "#Counter to find the size of largest subset of anagram words\n",
    "\n",
    "from collections import Counter\n",
    "\n",
    "def largest_anagram_subset_size(words):\n",
    "    anagram_counts = Counter(tuple(sorted(word)) for word in words)\n",
    "\n",
    "    return max(anagram_counts.values(), default=0)\n",
    "\n",
    "words = [\"listen\", \"silent\", \"enlist\", \"it\", \"is\", \"si\"]\n",
    "print(largest_anagram_subset_size(words))  \n",
    "\n"
   ]
  },
  {
   "cell_type": "code",
   "execution_count": 55,
   "metadata": {},
   "outputs": [
    {
     "name": "stdout",
     "output_type": "stream",
     "text": [
      "Python is great and easy\n"
     ]
    }
   ],
   "source": [
    "#Remove all duplicates words from a given sentence\n",
    "\n",
    "def remove_duplicate_words(sentence):\n",
    "    words = sentence.split()\n",
    "    unique_words = set(words)\n",
    "    return \" \".join(sorted(unique_words, key=words.index))\n",
    "\n",
    "sentence = \"Python is great and Python is easy\"\n",
    "print(remove_duplicate_words(sentence))\n",
    "\n"
   ]
  },
  {
   "cell_type": "code",
   "execution_count": 56,
   "metadata": {},
   "outputs": [
    {
     "name": "stdout",
     "output_type": "stream",
     "text": [
      "Mirror characters in the string: [('b', 'd'), ('q', 'p'), ('p', 'q'), ('d', 'b')]\n"
     ]
    }
   ],
   "source": [
    "#Dictionary to find mirror characters in a string\n",
    "\n",
    "def find_mirror_characters(string):\n",
    "    mirror_dict = {'b': 'd', 'd': 'b', 'p': 'q', 'q': 'p'}\n",
    "\n",
    "    mirror_pairs = []\n",
    "\n",
    "    for i in range(len(string) - 1):\n",
    "        current_char = string[i]\n",
    "        next_char = string[i + 1]\n",
    "\n",
    "        if current_char in mirror_dict:\n",
    "           \n",
    "            if mirror_dict[current_char] == next_char:\n",
    "                mirror_pairs.append((current_char, next_char))\n",
    "\n",
    "    return mirror_pairs\n",
    "\n",
    "string = \"bdqpqdb\"\n",
    "mirror_characters = find_mirror_characters(string)\n",
    "print(\"Mirror characters in the string:\", mirror_characters)\n",
    "\n"
   ]
  },
  {
   "cell_type": "code",
   "execution_count": 57,
   "metadata": {},
   "outputs": [
    {
     "name": "stdout",
     "output_type": "stream",
     "text": [
      "Frequencies in the list:\n",
      "1: 3\n",
      "2: 2\n",
      "3: 2\n",
      "4: 2\n",
      "5: 3\n"
     ]
    }
   ],
   "source": [
    "#Counting the frequencies in a list using dictionary\n",
    "\n",
    "from collections import Counter\n",
    "\n",
    "def count_frequencies(input_list):\n",
    "    frequencies = Counter(input_list)\n",
    "    return frequencies\n",
    "\n",
    "my_list = [1, 2, 3, 1, 2, 1, 4, 5, 4, 3, 5, 5]\n",
    "result = count_frequencies(my_list)\n",
    "\n",
    "print(\"Frequencies in the list:\")\n",
    "for element, count in result.items():\n",
    "    print(f\"{element}: {count}\")\n",
    "\n"
   ]
  },
  {
   "cell_type": "code",
   "execution_count": 58,
   "metadata": {},
   "outputs": [
    {
     "name": "stdout",
     "output_type": "stream",
     "text": [
      "{1: 'a', 2: 'b', 3: 'c'}\n"
     ]
    }
   ],
   "source": [
    "#Convert a list of Tuples into Dictionary\n",
    "\n",
    "def tuples_to_dict(tuples_list):\n",
    "    return dict(tuples_list)\n",
    "\n",
    "tuples_list = [(1, 'a'), (2, 'b'), (3, 'c')]\n",
    "converted_dict = tuples_to_dict(tuples_list)\n",
    "print(converted_dict)\n",
    "\n"
   ]
  },
  {
   "cell_type": "code",
   "execution_count": 59,
   "metadata": {},
   "outputs": [
    {
     "name": "stdout",
     "output_type": "stream",
     "text": [
      "Original String 1: abcabc\n",
      "Original String 2: abcbad\n",
      "New String: aabbcc\n"
     ]
    }
   ],
   "source": [
    "#Counter and dictionary intersection example (Make a string using deletion and rearrangement)\n",
    "\n",
    "from collections import Counter\n",
    "\n",
    "def make_string_with_deletion_and_rearrangement(str1, str2):\n",
    "    counter_str1 = Counter(str1)\n",
    "    counter_str2 = Counter(str2)\n",
    "\n",
    "    common_chars = counter_str1 & counter_str2\n",
    "\n",
    "    new_string_chars = []\n",
    "\n",
    "    for char, count in common_chars.items():\n",
    "        new_string_chars.extend([char] * count)\n",
    "\n",
    "    for char, count in (counter_str1 - common_chars).items():\n",
    "        new_string_chars.extend([char] * count)\n",
    "\n",
    "    new_string = ''.join(new_string_chars)\n",
    "\n",
    "    return new_string\n",
    "\n",
    "str1 = \"abcabc\"\n",
    "str2 = \"abcbad\"\n",
    "result = make_string_with_deletion_and_rearrangement(str1, str2)\n",
    "\n",
    "print(\"Original String 1:\", str1)\n",
    "print(\"Original String 2:\", str2)\n",
    "print(\"New String:\", result)\n",
    "\n"
   ]
  },
  {
   "cell_type": "code",
   "execution_count": 60,
   "metadata": {},
   "outputs": [
    {
     "name": "stdout",
     "output_type": "stream",
     "text": [
      "Frequencies cannot become the same.\n"
     ]
    }
   ],
   "source": [
    "#Dictionary, set and counter to check if frequencies can become same\n",
    "\n",
    "from collections import Counter\n",
    "\n",
    "def can_frequencies_become_same(s):\n",
    "    char_count = Counter(s)\n",
    "\n",
    "    frequencies_set = set(char_count.values())\n",
    "\n",
    "    return len(frequencies_set) == 1\n",
    "\n",
    "string = \"aabcc\"\n",
    "result = can_frequencies_become_same(string)\n",
    "\n",
    "if result:\n",
    "    print(\"Frequencies can become the same.\")\n",
    "else:\n",
    "    print(\"Frequencies cannot become the same.\")\n",
    "\n"
   ]
  },
  {
   "cell_type": "code",
   "execution_count": 61,
   "metadata": {},
   "outputs": [
    {
     "name": "stdout",
     "output_type": "stream",
     "text": [
      "Ordered Words: ['abc', 'a', 'abz', 'xyz', 'ax']\n"
     ]
    }
   ],
   "source": [
    "#Scraping And Finding Ordered Words In A Dictionary\n",
    "\n",
    "def is_ordered(word):\n",
    "    return all(word[i] <= word[i+1] for i in range(len(word) - 1))\n",
    "\n",
    "words = [\"abc\", \"car\", \"a\", \"abz\", \"xyz\", \"ax\", \"bat\"]\n",
    "\n",
    "ordered_words = [word for word in words if is_ordered(word)]\n",
    "\n",
    "print(\"Ordered Words:\", ordered_words)\n",
    "\n"
   ]
  },
  {
   "cell_type": "code",
   "execution_count": 62,
   "metadata": {},
   "outputs": [
    {
     "name": "stdout",
     "output_type": "stream",
     "text": [
      "Possible words: ['ale', 'real', 'ear', 'ale']\n"
     ]
    }
   ],
   "source": [
    "#Possible Words using given characters\n",
    "\n",
    "def possible_words(chars, words):\n",
    "    char_count = Counter(chars)\n",
    "    result = []\n",
    "\n",
    "    for word in words:\n",
    "        word_count = Counter(word)\n",
    "        if all(word_count[c] <= char_count[c] for c in word_count):\n",
    "            result.append(word)\n",
    "\n",
    "    return result\n",
    "\n",
    "chars = \"ealr\"\n",
    "dictionary = [\"ale\", \"apple\", \"real\", \"world\", \"ear\", \"ale\", \"bear\"]\n",
    "\n",
    "result = possible_words(chars, dictionary)\n",
    "\n",
    "print(\"Possible words:\", result)\n",
    "\n"
   ]
  },
  {
   "cell_type": "code",
   "execution_count": 63,
   "metadata": {},
   "outputs": [
    {
     "name": "stdout",
     "output_type": "stream",
     "text": [
      "Keys with value 2: ['b', 'c']\n"
     ]
    }
   ],
   "source": [
    "#Keys associated with Values in Dictionary\n",
    "\n",
    "def keys_with_value(d, target_value):\n",
    "    return [key for key, value in d.items() if value == target_value]\n",
    "\n",
    "my_dict = {'a': 1, 'b': 2, 'c': 2, 'd': 1, 'e': 3}\n",
    "\n",
    "target_value = 2\n",
    "keys = keys_with_value(my_dict, target_value)\n",
    "\n",
    "print(f\"Keys with value {target_value}: {keys}\")\n",
    "\n"
   ]
  },
  {
   "cell_type": "code",
   "execution_count": 64,
   "metadata": {},
   "outputs": [
    {
     "name": "stdout",
     "output_type": "stream",
     "text": [
      "Size of the tuple: 112 bytes\n"
     ]
    }
   ],
   "source": [
    "#Find the size of a Tuple\n",
    "\n",
    "import sys\n",
    "\n",
    "def tuple_size(my_tuple):\n",
    "    return sys.getsizeof(my_tuple)\n",
    "\n",
    "my_tuple = (1, 2, 3, 'a', 'b', 'c', True, False, None)\n",
    "size_of_tuple = tuple_size(my_tuple)\n",
    "\n",
    "print(f\"Size of the tuple: {size_of_tuple} bytes\")\n"
   ]
  },
  {
   "cell_type": "code",
   "execution_count": 65,
   "metadata": {},
   "outputs": [
    {
     "name": "stdout",
     "output_type": "stream",
     "text": [
      "Minimum 3 elements: [1, 2, 3]\n",
      "Maximum 3 elements: [8, 9, 10]\n"
     ]
    }
   ],
   "source": [
    "#Maximum and Minimum K elements in Tuple\n",
    "\n",
    "def max_min_k_elements(tup, k):\n",
    "    if k > len(tup):\n",
    "        return \"k is larger than the tuple length\"\n",
    "\n",
    "    sorted_tup = sorted(tup)\n",
    "    min_k = sorted_tup[:k]\n",
    "    max_k = sorted_tup[-k:]\n",
    "\n",
    "    return min_k, max_k\n",
    "\n",
    "my_tuple = (10, 4, 5, 2, 8, 6, 7, 9, 3, 1)\n",
    "k = 3\n",
    "\n",
    "min_k_elements, max_k_elements = max_min_k_elements(my_tuple, k)\n",
    "\n",
    "print(f\"Minimum {k} elements: {min_k_elements}\")\n",
    "print(f\"Maximum {k} elements: {max_k_elements}\")\n",
    "\n"
   ]
  },
  {
   "cell_type": "code",
   "execution_count": 66,
   "metadata": {},
   "outputs": [
    {
     "name": "stdout",
     "output_type": "stream",
     "text": [
      "Original List: [1, 2, 3, 4, 5]\n",
      "List of Tuples with Number and its Cube: [(1, 1), (2, 8), (3, 27), (4, 64), (5, 125)]\n"
     ]
    }
   ],
   "source": [
    "#Create a list of tuples from given list having number and its cube in each tuple\n",
    "\n",
    "def create_tuples_with_cube(input_list):\n",
    "    return [(num, num**3) for num in input_list]\n",
    "\n",
    "original_list = [1, 2, 3, 4, 5]\n",
    "result_list = create_tuples_with_cube(original_list)\n",
    "\n",
    "print(\"Original List:\", original_list)\n",
    "print(\"List of Tuples with Number and its Cube:\", result_list)\n"
   ]
  },
  {
   "cell_type": "code",
   "execution_count": 69,
   "metadata": {},
   "outputs": [
    {
     "name": "stdout",
     "output_type": "stream",
     "text": [
      "[1, 2, 3, 4, 5]\n",
      "(1, 2, 3, 4, 5)\n"
     ]
    }
   ],
   "source": [
    "#Adding Tuple to List and vice – versa\n",
    "\n",
    "my_list = [1, 2, 3]\n",
    "my_tuple = (4, 5)\n",
    "\n",
    "my_list.extend(my_tuple)\n",
    "print(my_list) \n",
    "\n",
    "\n",
    "my_tuple = (1, 2, 3)\n",
    "my_list = [4, 5]\n",
    "\n",
    "new_tuple = my_tuple + tuple(my_list)\n",
    "print(new_tuple) \n",
    "\n"
   ]
  },
  {
   "cell_type": "code",
   "execution_count": 70,
   "metadata": {},
   "outputs": [
    {
     "name": "stdout",
     "output_type": "stream",
     "text": [
      "Closest pair to the element at index 2: (0, 9)\n"
     ]
    }
   ],
   "source": [
    "#Closest Pair to Kth index element in Tuple\n",
    "\n",
    "def closest_pair_to_kth_index(my_tuple, k):\n",
    "    kth_element = my_tuple[k]\n",
    "\n",
    "    differences = [abs(element - kth_element) for element in my_tuple]\n",
    "    pairs = list(zip(differences, my_tuple))\n",
    "\n",
    "    pairs.sort()\n",
    "\n",
    "    return pairs[0]\n",
    "\n",
    "my_tuple = (1, 5, 9, 12, 7, 3)\n",
    "k = 2\n",
    "\n",
    "closest_pair = closest_pair_to_kth_index(my_tuple, k)\n",
    "print(f\"Closest pair to the element at index {k}: {closest_pair}\")\n",
    "\n"
   ]
  },
  {
   "cell_type": "code",
   "execution_count": 71,
   "metadata": {},
   "outputs": [
    {
     "name": "stdout",
     "output_type": "stream",
     "text": [
      "[(1, 'a', 1, 'b'), (2, 'c', 2, 'e'), (3, 'd')]\n"
     ]
    }
   ],
   "source": [
    "#Join Tuples if similar initial element\n",
    "\n",
    "def join_tuples(tuples):\n",
    "    result = []\n",
    "    grouped = {}\n",
    "\n",
    "    for tup in tuples:\n",
    "        if tup:\n",
    "            key = tup[0]\n",
    "            grouped.setdefault(key, []).append(tup)\n",
    "\n",
    "    for group in grouped.values():\n",
    "        merged = tuple()\n",
    "        for tup in group:\n",
    "            merged += tup\n",
    "        result.append(merged)\n",
    "\n",
    "    return result\n",
    "\n",
    "tuple_list = [(1, 'a'), (1, 'b'), (2, 'c'), (3, 'd'), (2, 'e')]\n",
    "joined_tuples = join_tuples(tuple_list)\n",
    "\n",
    "print(joined_tuples)\n",
    "\n"
   ]
  },
  {
   "cell_type": "code",
   "execution_count": 72,
   "metadata": {},
   "outputs": [
    {
     "name": "stdout",
     "output_type": "stream",
     "text": [
      "Extracted Digits: []\n"
     ]
    }
   ],
   "source": [
    "#Extract digits from Tuple list\n",
    "\n",
    "def extract_digits(tuple_list):\n",
    "    return [int(char) for tup in tuple_list for elem in tup if isinstance(elem, str) for char in elem if char.isdigit()]\n",
    "\n",
    "tuple_list = [('abc', 123), (456, 'def', 789), ('ghi', 'jkl')]\n",
    "\n",
    "result = extract_digits(tuple_list)\n",
    "print(\"Extracted Digits:\", result)\n",
    "\n"
   ]
  },
  {
   "cell_type": "code",
   "execution_count": 73,
   "metadata": {},
   "outputs": [
    {
     "name": "stdout",
     "output_type": "stream",
     "text": [
      "All Pair Combinations: [(1, 'a'), (1, 'b'), (1, 'c'), (2, 'a'), (2, 'b'), (2, 'c'), (3, 'a'), (3, 'b'), (3, 'c')]\n"
     ]
    }
   ],
   "source": [
    "#All pair combinations of 2 tuples\n",
    "\n",
    "def all_pair_combinations(tup1, tup2):\n",
    "    combinations = [(elem1, elem2) for elem1 in tup1 for elem2 in tup2]\n",
    "    return combinations\n",
    "\n",
    "tuple1 = (1, 2, 3)\n",
    "tuple2 = ('a', 'b', 'c')\n",
    "\n",
    "result = all_pair_combinations(tuple1, tuple2)\n",
    "print(\"All Pair Combinations:\", result)\n"
   ]
  },
  {
   "cell_type": "code",
   "execution_count": 74,
   "metadata": {},
   "outputs": [
    {
     "name": "stdout",
     "output_type": "stream",
     "text": [
      "Tuples after removing length 3 tuples: [(1, 2), (10,)]\n"
     ]
    }
   ],
   "source": [
    "#Remove Tuples of Length K\n",
    "\n",
    "def remove_tuples_of_length_k(tuple_list, k):\n",
    "    return [tup for tup in tuple_list if len(tup) != k]\n",
    "\n",
    "tuple_list = [(1, 2), (3, 4, 5), ('a', 'b', 'c'), (10,)]\n",
    "\n",
    "k = 3\n",
    "result = remove_tuples_of_length_k(tuple_list, k)\n",
    "\n",
    "print(\"Tuples after removing length\", k, \"tuples:\", result)\n",
    "\n"
   ]
  },
  {
   "cell_type": "code",
   "execution_count": 75,
   "metadata": {},
   "outputs": [
    {
     "name": "stdout",
     "output_type": "stream",
     "text": [
      "Sorted List: [(2, 1), (3, 2), (1, 3), (4, 4)]\n"
     ]
    }
   ],
   "source": [
    "#Sort a list of tuples by second Item\n",
    "\n",
    "def sort_by_second_item(tuple_list):\n",
    "    return sorted(tuple_list, key=lambda x: x[1])\n",
    "\n",
    "tuple_list = [(1, 3), (3, 2), (2, 1), (4, 4)]\n",
    "sorted_list = sort_by_second_item(tuple_list)\n",
    "\n",
    "print(\"Sorted List:\", sorted_list)\n"
   ]
  },
  {
   "cell_type": "code",
   "execution_count": 76,
   "metadata": {},
   "outputs": [
    {
     "name": "stdout",
     "output_type": "stream",
     "text": [
      "Ordered List: [('a', 1), ('b', 2), ('c', 3)]\n"
     ]
    }
   ],
   "source": [
    "#Order Tuples using external List\n",
    "\n",
    "def order_tuples_using_external_list(tuple_list, external_order):\n",
    "    return sorted(tuple_list, key=lambda x: external_order.index(x[0]))\n",
    "\n",
    "tuple_list = [('b', 2), ('a', 1), ('c', 3)]\n",
    "external_order = ['a', 'b', 'c']\n",
    "\n",
    "ordered_list = order_tuples_using_external_list(tuple_list, external_order)\n",
    "\n",
    "print(\"Ordered List:\", ordered_list)\n",
    "\n"
   ]
  },
  {
   "cell_type": "code",
   "execution_count": 77,
   "metadata": {},
   "outputs": [
    {
     "name": "stdout",
     "output_type": "stream",
     "text": [
      "Flattened Tuple: (1, 2, 3, 'a', 'b', 'c', 4, 5)\n"
     ]
    }
   ],
   "source": [
    "#Flatten tuple of List to tuple\n",
    "\n",
    "def flatten_tuple_of_lists(tup):\n",
    "    return tuple(elem for sublist in tup for elem in sublist)\n",
    "\n",
    "tuple_of_lists = ([1, 2, 3], ['a', 'b', 'c'], [4, 5])\n",
    "flattened_tuple = flatten_tuple_of_lists(tuple_of_lists)\n",
    "\n",
    "print(\"Flattened Tuple:\", flattened_tuple)\n",
    "\n"
   ]
  },
  {
   "cell_type": "code",
   "execution_count": 78,
   "metadata": {},
   "outputs": [
    {
     "name": "stdout",
     "output_type": "stream",
     "text": [
      "Custom Key Dictionary: {'a': 1, 'b': 2, 'c': 3}\n"
     ]
    }
   ],
   "source": [
    "#Convert Nested Tuple to Custom Key Dictionary\n",
    "\n",
    "def nested_tuple_to_dict(nested_tuple, key_index, value_index):\n",
    "    result_dict = {}\n",
    "\n",
    "    for tup in nested_tuple:\n",
    "        key = tup[key_index]\n",
    "        value = tup[value_index]\n",
    "        result_dict[key] = value\n",
    "\n",
    "    return result_dict\n",
    "\n",
    "nested_tuple = [('a', 1), ('b', 2), ('c', 3)]\n",
    "custom_key_dict = nested_tuple_to_dict(nested_tuple, key_index=0, value_index=1)\n",
    "\n",
    "print(\"Custom Key Dictionary:\", custom_key_dict)\n"
   ]
  }
 ],
 "metadata": {
  "kernelspec": {
   "display_name": "Python 3",
   "language": "python",
   "name": "python3"
  },
  "language_info": {
   "codemirror_mode": {
    "name": "ipython",
    "version": 3
   },
   "file_extension": ".py",
   "mimetype": "text/x-python",
   "name": "python",
   "nbconvert_exporter": "python",
   "pygments_lexer": "ipython3",
   "version": "3.12.1"
  }
 },
 "nbformat": 4,
 "nbformat_minor": 2
}
